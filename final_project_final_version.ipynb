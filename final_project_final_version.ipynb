{
 "cells": [
  {
   "cell_type": "markdown",
   "id": "distant-beads",
   "metadata": {},
   "source": [
    "# Bank churners predictions\n",
    "\n",
    "Given a customer's profile, predict if the customer is going to churn or not. With this information, bank managers can better prevent them from leaving the service and potentiall increase the retention rate."
   ]
  },
  {
   "cell_type": "code",
   "execution_count": 282,
   "id": "suspended-ozone",
   "metadata": {},
   "outputs": [],
   "source": [
    "from   category_encoders          import *\n",
    "import numpy as np\n",
    "import pandas as pd\n",
    "import matplotlib.pyplot as plt\n",
    "import matplotlib.patches as patches\n",
    "from   sklearn.compose           import *\n",
    "from   sklearn.ensemble          import RandomForestClassifier # ExtraTreesClassifier, IsolationForest\n",
    "from   sklearn.ensemble          import GradientBoostingClassifier\n",
    "from   sklearn.experimental       import enable_iterative_imputer\n",
    "from   sklearn.impute            import *\n",
    "from   sklearn.linear_model      import LogisticRegression# PassiveAggressiveClassifier, RidgeClassifier, SGDClassifier\n",
    "from   sklearn.metrics           import roc_auc_score \n",
    "from   sklearn.pipeline          import Pipeline\n",
    "from   sklearn.preprocessing     import *\n",
    "from   sklearn.tree              import DecisionTreeClassifier\n",
    "from   sklearn.ensemble          import GradientBoostingClassifier\n",
    "from sklearn.base            import BaseEstimator\n",
    "from   sklearn.model_selection  import RandomizedSearchCV\n",
    "from sklearn.metrics         import f1_score\n",
    "from   sklearn.metrics          import accuracy_score\n",
    "from   sklearn.metrics          import confusion_matrix\n",
    "from   sklearn.metrics          import plot_roc_curve\n",
    "from   sklearn.metrics          import roc_auc_score\n",
    "from   sklearn.metrics          import average_precision_score\n",
    "from   sklearn.metrics          import plot_precision_recall_curve\n",
    "from   sklearn.model_selection  import train_test_split\n",
    "from   sklearn.decomposition    import PCA\n",
    "from   sklearn.metrics          import classification_report\n",
    "from   feature_importance       import FeatureImportance\n",
    "import plotly.express as px\n",
    "\n",
    "\n",
    "import warnings\n",
    "warnings.filterwarnings('ignore')"
   ]
  },
  {
   "cell_type": "markdown",
   "id": "welcome-emergency",
   "metadata": {},
   "source": [
    "### project idea:\n",
    "\n",
    "1: Initial EDA with some visualizations, explore if some columns are correlated, some statistical test \n",
    "\n",
    "\n",
    "2: Feature select (select certain numeric and categorical data\n",
    "\n",
    "Use pipeline to impute,scale, random search with cross validaiton and fit multiple models\n",
    "\n",
    "3: After fitting the model and plot the feature importance (2nd location to have visualizations)\n",
    "\n",
    "4: Repeat step 2 after getting the feature importance\n",
    "\n",
    "5: Evaluation metric "
   ]
  },
  {
   "cell_type": "code",
   "execution_count": 241,
   "id": "painted-melbourne",
   "metadata": {},
   "outputs": [],
   "source": [
    "# class DummyEstimator(BaseEstimator):\n",
    "#     \"Pass through class, methods are present but do nothing.\"\n",
    "#     def fit(self): pass\n",
    "#     def score(self): pass"
   ]
  },
  {
   "cell_type": "code",
   "execution_count": 242,
   "id": "forbidden-recruitment",
   "metadata": {},
   "outputs": [],
   "source": [
    "def evaluate_model(y_test,y_pred,pipe):\n",
    "\n",
    "    print(classification_report(y_test, y_pred))\n",
    "\n",
    "\n",
    "    print(\"Hold out set confusion matrix:\")\n",
    "    print(confusion_matrix(y_test, y_pred))\n",
    "    \n",
    "#     y_scores = pipe.predict_proba(X_test)[:, 1]\n",
    "#     auc = roc_auc_score(y_test, y_scores)\n",
    "#     print(\"\\nHold out AUC: \", np.round(auc, 3))"
   ]
  },
  {
   "cell_type": "markdown",
   "id": "organic-pointer",
   "metadata": {},
   "source": [
    "# Load the data and proform initial EDA"
   ]
  },
  {
   "cell_type": "code",
   "execution_count": 243,
   "id": "accompanied-scheduling",
   "metadata": {},
   "outputs": [],
   "source": [
    "data = pd.read_csv('data/BankChurners.csv')"
   ]
  },
  {
   "cell_type": "code",
   "execution_count": 244,
   "id": "embedded-netherlands",
   "metadata": {},
   "outputs": [
    {
     "data": {
      "text/html": [
       "<div>\n",
       "<style scoped>\n",
       "    .dataframe tbody tr th:only-of-type {\n",
       "        vertical-align: middle;\n",
       "    }\n",
       "\n",
       "    .dataframe tbody tr th {\n",
       "        vertical-align: top;\n",
       "    }\n",
       "\n",
       "    .dataframe thead th {\n",
       "        text-align: right;\n",
       "    }\n",
       "</style>\n",
       "<table border=\"1\" class=\"dataframe\">\n",
       "  <thead>\n",
       "    <tr style=\"text-align: right;\">\n",
       "      <th></th>\n",
       "      <th>CLIENTNUM</th>\n",
       "      <th>Attrition_Flag</th>\n",
       "      <th>Customer_Age</th>\n",
       "      <th>Gender</th>\n",
       "      <th>Dependent_count</th>\n",
       "      <th>Education_Level</th>\n",
       "      <th>Marital_Status</th>\n",
       "      <th>Income_Category</th>\n",
       "      <th>Card_Category</th>\n",
       "      <th>Months_on_book</th>\n",
       "      <th>...</th>\n",
       "      <th>Credit_Limit</th>\n",
       "      <th>Total_Revolving_Bal</th>\n",
       "      <th>Avg_Open_To_Buy</th>\n",
       "      <th>Total_Amt_Chng_Q4_Q1</th>\n",
       "      <th>Total_Trans_Amt</th>\n",
       "      <th>Total_Trans_Ct</th>\n",
       "      <th>Total_Ct_Chng_Q4_Q1</th>\n",
       "      <th>Avg_Utilization_Ratio</th>\n",
       "      <th>Naive_Bayes_Classifier_Attrition_Flag_Card_Category_Contacts_Count_12_mon_Dependent_count_Education_Level_Months_Inactive_12_mon_1</th>\n",
       "      <th>Naive_Bayes_Classifier_Attrition_Flag_Card_Category_Contacts_Count_12_mon_Dependent_count_Education_Level_Months_Inactive_12_mon_2</th>\n",
       "    </tr>\n",
       "  </thead>\n",
       "  <tbody>\n",
       "    <tr>\n",
       "      <th>0</th>\n",
       "      <td>768805383</td>\n",
       "      <td>Existing Customer</td>\n",
       "      <td>45</td>\n",
       "      <td>M</td>\n",
       "      <td>3</td>\n",
       "      <td>High School</td>\n",
       "      <td>Married</td>\n",
       "      <td>$60K - $80K</td>\n",
       "      <td>Blue</td>\n",
       "      <td>39</td>\n",
       "      <td>...</td>\n",
       "      <td>12691.0</td>\n",
       "      <td>777</td>\n",
       "      <td>11914.0</td>\n",
       "      <td>1.335</td>\n",
       "      <td>1144</td>\n",
       "      <td>42</td>\n",
       "      <td>1.625</td>\n",
       "      <td>0.061</td>\n",
       "      <td>0.000093</td>\n",
       "      <td>0.99991</td>\n",
       "    </tr>\n",
       "    <tr>\n",
       "      <th>1</th>\n",
       "      <td>818770008</td>\n",
       "      <td>Existing Customer</td>\n",
       "      <td>49</td>\n",
       "      <td>F</td>\n",
       "      <td>5</td>\n",
       "      <td>Graduate</td>\n",
       "      <td>Single</td>\n",
       "      <td>Less than $40K</td>\n",
       "      <td>Blue</td>\n",
       "      <td>44</td>\n",
       "      <td>...</td>\n",
       "      <td>8256.0</td>\n",
       "      <td>864</td>\n",
       "      <td>7392.0</td>\n",
       "      <td>1.541</td>\n",
       "      <td>1291</td>\n",
       "      <td>33</td>\n",
       "      <td>3.714</td>\n",
       "      <td>0.105</td>\n",
       "      <td>0.000057</td>\n",
       "      <td>0.99994</td>\n",
       "    </tr>\n",
       "    <tr>\n",
       "      <th>2</th>\n",
       "      <td>713982108</td>\n",
       "      <td>Existing Customer</td>\n",
       "      <td>51</td>\n",
       "      <td>M</td>\n",
       "      <td>3</td>\n",
       "      <td>Graduate</td>\n",
       "      <td>Married</td>\n",
       "      <td>$80K - $120K</td>\n",
       "      <td>Blue</td>\n",
       "      <td>36</td>\n",
       "      <td>...</td>\n",
       "      <td>3418.0</td>\n",
       "      <td>0</td>\n",
       "      <td>3418.0</td>\n",
       "      <td>2.594</td>\n",
       "      <td>1887</td>\n",
       "      <td>20</td>\n",
       "      <td>2.333</td>\n",
       "      <td>0.000</td>\n",
       "      <td>0.000021</td>\n",
       "      <td>0.99998</td>\n",
       "    </tr>\n",
       "    <tr>\n",
       "      <th>3</th>\n",
       "      <td>769911858</td>\n",
       "      <td>Existing Customer</td>\n",
       "      <td>40</td>\n",
       "      <td>F</td>\n",
       "      <td>4</td>\n",
       "      <td>High School</td>\n",
       "      <td>Unknown</td>\n",
       "      <td>Less than $40K</td>\n",
       "      <td>Blue</td>\n",
       "      <td>34</td>\n",
       "      <td>...</td>\n",
       "      <td>3313.0</td>\n",
       "      <td>2517</td>\n",
       "      <td>796.0</td>\n",
       "      <td>1.405</td>\n",
       "      <td>1171</td>\n",
       "      <td>20</td>\n",
       "      <td>2.333</td>\n",
       "      <td>0.760</td>\n",
       "      <td>0.000134</td>\n",
       "      <td>0.99987</td>\n",
       "    </tr>\n",
       "    <tr>\n",
       "      <th>4</th>\n",
       "      <td>709106358</td>\n",
       "      <td>Existing Customer</td>\n",
       "      <td>40</td>\n",
       "      <td>M</td>\n",
       "      <td>3</td>\n",
       "      <td>Uneducated</td>\n",
       "      <td>Married</td>\n",
       "      <td>$60K - $80K</td>\n",
       "      <td>Blue</td>\n",
       "      <td>21</td>\n",
       "      <td>...</td>\n",
       "      <td>4716.0</td>\n",
       "      <td>0</td>\n",
       "      <td>4716.0</td>\n",
       "      <td>2.175</td>\n",
       "      <td>816</td>\n",
       "      <td>28</td>\n",
       "      <td>2.500</td>\n",
       "      <td>0.000</td>\n",
       "      <td>0.000022</td>\n",
       "      <td>0.99998</td>\n",
       "    </tr>\n",
       "  </tbody>\n",
       "</table>\n",
       "<p>5 rows × 23 columns</p>\n",
       "</div>"
      ],
      "text/plain": [
       "   CLIENTNUM     Attrition_Flag  Customer_Age Gender  Dependent_count  \\\n",
       "0  768805383  Existing Customer            45      M                3   \n",
       "1  818770008  Existing Customer            49      F                5   \n",
       "2  713982108  Existing Customer            51      M                3   \n",
       "3  769911858  Existing Customer            40      F                4   \n",
       "4  709106358  Existing Customer            40      M                3   \n",
       "\n",
       "  Education_Level Marital_Status Income_Category Card_Category  \\\n",
       "0     High School        Married     $60K - $80K          Blue   \n",
       "1        Graduate         Single  Less than $40K          Blue   \n",
       "2        Graduate        Married    $80K - $120K          Blue   \n",
       "3     High School        Unknown  Less than $40K          Blue   \n",
       "4      Uneducated        Married     $60K - $80K          Blue   \n",
       "\n",
       "   Months_on_book  ...  Credit_Limit  Total_Revolving_Bal  Avg_Open_To_Buy  \\\n",
       "0              39  ...       12691.0                  777          11914.0   \n",
       "1              44  ...        8256.0                  864           7392.0   \n",
       "2              36  ...        3418.0                    0           3418.0   \n",
       "3              34  ...        3313.0                 2517            796.0   \n",
       "4              21  ...        4716.0                    0           4716.0   \n",
       "\n",
       "   Total_Amt_Chng_Q4_Q1  Total_Trans_Amt  Total_Trans_Ct  Total_Ct_Chng_Q4_Q1  \\\n",
       "0                 1.335             1144              42                1.625   \n",
       "1                 1.541             1291              33                3.714   \n",
       "2                 2.594             1887              20                2.333   \n",
       "3                 1.405             1171              20                2.333   \n",
       "4                 2.175              816              28                2.500   \n",
       "\n",
       "   Avg_Utilization_Ratio  \\\n",
       "0                  0.061   \n",
       "1                  0.105   \n",
       "2                  0.000   \n",
       "3                  0.760   \n",
       "4                  0.000   \n",
       "\n",
       "   Naive_Bayes_Classifier_Attrition_Flag_Card_Category_Contacts_Count_12_mon_Dependent_count_Education_Level_Months_Inactive_12_mon_1  \\\n",
       "0                                           0.000093                                                                                    \n",
       "1                                           0.000057                                                                                    \n",
       "2                                           0.000021                                                                                    \n",
       "3                                           0.000134                                                                                    \n",
       "4                                           0.000022                                                                                    \n",
       "\n",
       "   Naive_Bayes_Classifier_Attrition_Flag_Card_Category_Contacts_Count_12_mon_Dependent_count_Education_Level_Months_Inactive_12_mon_2  \n",
       "0                                            0.99991                                                                                   \n",
       "1                                            0.99994                                                                                   \n",
       "2                                            0.99998                                                                                   \n",
       "3                                            0.99987                                                                                   \n",
       "4                                            0.99998                                                                                   \n",
       "\n",
       "[5 rows x 23 columns]"
      ]
     },
     "execution_count": 244,
     "metadata": {},
     "output_type": "execute_result"
    }
   ],
   "source": [
    "data.head()"
   ]
  },
  {
   "cell_type": "code",
   "execution_count": 245,
   "id": "novel-algebra",
   "metadata": {},
   "outputs": [],
   "source": [
    "# check if there is any missing value in the dataseet\n",
    "# data.isna().any()"
   ]
  },
  {
   "cell_type": "code",
   "execution_count": 246,
   "id": "blank-politics",
   "metadata": {},
   "outputs": [],
   "source": [
    "# Check the ratio of existing customers and attrited(churned) customers\n",
    "churn_ratio_df = data.groupby(['Attrition_Flag'])[\n",
    "    ['CLIENTNUM']].count().reset_index()\n",
    "\n",
    "churn_by_gender = data.groupby(['Attrition_Flag', 'Gender'])[['CLIENTNUM']].count(\n",
    ").reset_index().sort_values(['Attrition_Flag', 'CLIENTNUM'], ascending=False)\n",
    "\n",
    "churn_by_income = data.groupby(['Attrition_Flag', 'Income_Category'])[['CLIENTNUM']].count(\n",
    ").reset_index().sort_values(['Attrition_Flag', 'CLIENTNUM'], ascending=False)\n",
    "\n",
    "existing_customer_income = churn_by_income[churn_by_income['Attrition_Flag']\n",
    "                                           == 'Existing Customer']\n",
    "\n",
    "churned_customer_income = churn_by_income[churn_by_income['Attrition_Flag']\n",
    "                                          == 'Attrited Customer']\n",
    "\n",
    "churn_by_education = data.groupby(['Attrition_Flag', 'Education_Level'])[['CLIENTNUM']].count(\n",
    ").reset_index().sort_values(['Attrition_Flag', 'CLIENTNUM'], ascending=False)\n",
    "\n",
    "existing_customer_education = churn_by_education[churn_by_education['Attrition_Flag']\n",
    "                                                 == 'Existing Customer']\n",
    "\n",
    "churned_customer_education = churn_by_education[churn_by_education['Attrition_Flag']\n",
    "                                                == 'Attrited Customer']"
   ]
  },
  {
   "cell_type": "code",
   "execution_count": 247,
   "id": "married-decade",
   "metadata": {
    "scrolled": false
   },
   "outputs": [
    {
     "data": {
      "image/png": "[encoded data removed]",
      "text/plain": [
       "<Figure size 1440x1080 with 6 Axes>"
      ]
     },
     "metadata": {
      "needs_background": "light"
     },
     "output_type": "display_data"
    }
   ],
   "source": [
    "# Visualize the ratio\n",
    "#fig, axes = plt.subplots(nrows=2, ncols=2,figsize=(20,15))\n",
    "\n",
    "mx = data['Customer_Age'].mean()\n",
    "fig, axes = plt.subplots(nrows=3, ncols=2, figsize=(20, 15))\n",
    "axes = axes.flatten()\n",
    "\n",
    "axes[0].bar(churn_ratio_df['Attrition_Flag'],\n",
    "            churn_ratio_df['CLIENTNUM'], color=['#f04f65', '#7ed3ed'], width=0.4)\n",
    "axes[0].set_title(\n",
    "    'Churned Customers vs. Existing Customer Counts', fontweight='bold', size=15)\n",
    "\n",
    "axes[1].hist(data['Customer_Age'])\n",
    "axes[1].set_title('Customer Age Distribution', fontweight='bold', size=15)\n",
    "axes[1].text(mx, -150, f\"mean = {mx}\", fontsize=9)\n",
    "axes[1].tick_params(axis='x', pad=18)\n",
    "\n",
    "axes[2].bar(existing_customer_income['Income_Category'],\n",
    "            existing_customer_income['CLIENTNUM'], width=0.5)\n",
    "axes[2].set_title('Existing Customer Income Level', fontweight='bold', size=15)\n",
    "\n",
    "axes[3].bar(churned_customer_income['Income_Category'],\n",
    "            churned_customer_income['CLIENTNUM'], color='#b58188', width=0.5)\n",
    "axes[3].set_title('Churned Customer Income Level', fontweight='bold', size=15)\n",
    "\n",
    "axes[4].bar(existing_customer_education['Education_Level'],\n",
    "            existing_customer_education['CLIENTNUM'], width=0.5)\n",
    "axes[4].set_title('Exisiting Customer Education Level',\n",
    "                  fontweight='bold', size=15)\n",
    "\n",
    "axes[5].bar(churned_customer_education['Education_Level'],\n",
    "            churned_customer_education['CLIENTNUM'], color='#b58188', width=0.5)\n",
    "axes[5].set_title('Churned Customer Education Level',\n",
    "                  fontweight='bold', size=15)\n",
    "\n",
    "for i in range(6):\n",
    "    axes[i].spines['top'].set_visible(False)\n",
    "    axes[i].spines['right'].set_visible(False)\n",
    "    axes[i].yaxis.set_ticks_position('none')\n",
    "    axes[i].xaxis.set_ticks_position('none')"
   ]
  },
  {
   "cell_type": "markdown",
   "id": "duplicate-butterfly",
   "metadata": {},
   "source": [
    "From the visualizations above, the dataset is imbalanced. Churned customer count is much smaller then exisiting cosutomer count."
   ]
  },
  {
   "cell_type": "markdown",
   "id": "bound-guidance",
   "metadata": {},
   "source": [
    "# Building the pipeline and fit the model"
   ]
  },
  {
   "cell_type": "code",
   "execution_count": 248,
   "id": "recorded-writing",
   "metadata": {},
   "outputs": [],
   "source": [
    "# if churn then 1, else 0\n",
    "data['churn']=np.where(data.Attrition_Flag=='Existing Customer',0,1)\n",
    "\n",
    "# split the X and y\n",
    "X = data.drop(columns =['Attrition_Flag','churn'])\n",
    "y = data[['churn']].values.ravel()"
   ]
  },
  {
   "cell_type": "code",
   "execution_count": 249,
   "id": "endless-floor",
   "metadata": {},
   "outputs": [],
   "source": [
    "# split the train and split test\n",
    "X_train, X_test, y_train, y_test = train_test_split(X,\n",
    "                                                    y,\n",
    "                                                    test_size=0.2)"
   ]
  },
  {
   "cell_type": "code",
   "execution_count": 250,
   "id": "corrected-fitness",
   "metadata": {},
   "outputs": [],
   "source": [
    "# Define the categorical and numeric columns used in sklearn pipeline\n",
    "\n",
    "categorical_columns = ['Gender', 'Education_Level',\n",
    "                       'Marital_Status', 'Income_Category', 'Card_Category']\n",
    "numeric_columns_draft = list(set(X_train.columns)-set(categorical_columns))\n",
    "\n",
    "columns_to_remove = ['CLIENTNUM',\n",
    "                     'Attrition_Flag',\n",
    "                     'Naive_Bayes_Classifier_Attrition_Flag_Card_Category_Contacts_Count_12_mon_Dependent_count_Education_Level_Months_Inactive_12_mon_1',\n",
    "                     'Naive_Bayes_Classifier_Attrition_Flag_Card_Category_Contacts_Count_12_mon_Dependent_count_Education_Level_Months_Inactive_12_mon_2']\n",
    "\n",
    "numeric_columns = [\n",
    "    i for i in numeric_columns_draft if i not in columns_to_remove]"
   ]
  },
  {
   "cell_type": "code",
   "execution_count": 251,
   "id": "eligible-expansion",
   "metadata": {},
   "outputs": [],
   "source": [
    "# Build pipeline for traning the model\n",
    "\n",
    "con_pipe = Pipeline([('imputer', SimpleImputer(strategy='median', add_indicator=True)),\n",
    "                     ('scaler', StandardScaler()),\n",
    "                     ('pca', PCA(n_components=14))])\n",
    "\n",
    "cat_pipe = Pipeline([('imputer', SimpleImputer(strategy='most_frequent', add_indicator=True)),\n",
    "                     ('ode', OrdinalEncoder(handle_unknown='ignore'))])\n",
    "\n",
    "preprocessing = ColumnTransformer([('categorical', cat_pipe, categorical_columns),\n",
    "                                   ('continues', con_pipe, numeric_columns)])"
   ]
  },
  {
   "cell_type": "markdown",
   "id": "dominant-boutique",
   "metadata": {},
   "source": [
    "# Model 1: Logistic Regression"
   ]
  },
  {
   "cell_type": "code",
   "execution_count": 252,
   "id": "individual-renaissance",
   "metadata": {},
   "outputs": [
    {
     "name": "stdout",
     "output_type": "stream",
     "text": [
      "Fitting 10 folds for each of 10 candidates, totalling 100 fits\n"
     ]
    },
    {
     "data": {
      "text/plain": [
       "RandomizedSearchCV(cv=10,\n",
       "                   estimator=Pipeline(steps=[('prep',\n",
       "                                              ColumnTransformer(transformers=[('categorical',\n",
       "                                                                               Pipeline(steps=[('imputer',\n",
       "                                                                                                SimpleImputer(add_indicator=True,\n",
       "                                                                                                              strategy='most_frequent')),\n",
       "                                                                                               ('ode',\n",
       "                                                                                                OrdinalEncoder(handle_unknown='ignore'))]),\n",
       "                                                                               ['Gender',\n",
       "                                                                                'Education_Level',\n",
       "                                                                                'Marital_Status',\n",
       "                                                                                'Income_Category',\n",
       "                                                                                'Card_Category']),\n",
       "                                                                              ('continues',\n",
       "                                                                               Pipeline(step...\n",
       "                                                                                'Months_Inactive_12_mon',\n",
       "                                                                                'Contacts_Count_12_mon',\n",
       "                                                                                'Total_Trans_Ct'])])),\n",
       "                                             ('clf', LogisticRegression())]),\n",
       "                   n_jobs=-1,\n",
       "                   param_distributions={'clf__class_weight': ['balanced'],\n",
       "                                        'clf__multi_class': ['auto', 'ovr',\n",
       "                                                             'multinomial'],\n",
       "                                        'clf__penalty': ['l1', 'l2'],\n",
       "                                        'clf__solver': ['newton_cg',\n",
       "                                                        'liblinear', 'lbfgs'],\n",
       "                                        'prep__continues__pca__n_components': [6,\n",
       "                                                                               7,\n",
       "                                                                               10,\n",
       "                                                                               14,\n",
       "                                                                               17]},\n",
       "                   verbose=True)"
      ]
     },
     "execution_count": 252,
     "metadata": {},
     "output_type": "execute_result"
    }
   ],
   "source": [
    "pipe_lr = Pipeline([('prep', preprocessing),\n",
    "                    ('clf', LogisticRegression())])\n",
    "\n",
    "hyperparamters = {'clf__penalty': ['l1', 'l2'],\n",
    "                  'clf__solver': ['newton_cg', 'liblinear', 'lbfgs'],\n",
    "                  'clf__multi_class': ['auto', 'ovr', 'multinomial'],\n",
    "                  'clf__class_weight': ['balanced'],\n",
    "                  'prep__continues__pca__n_components': [6, 7, 10, 14, 17]}\n",
    "\n",
    "\n",
    "# Hyperparameters turning with randomized search with 5-folds cross-validaiotion\n",
    "lr_cv = RandomizedSearchCV(estimator=pipe_lr,\n",
    "                           param_distributions=hyperparamters,\n",
    "                           cv=10,\n",
    "                           n_jobs=-1,\n",
    "                           verbose=True)\n",
    "\n",
    "lr_cv.fit(X_train, y_train)"
   ]
  },
  {
   "cell_type": "code",
   "execution_count": 253,
   "id": "abstract-clearance",
   "metadata": {
    "scrolled": true
   },
   "outputs": [
    {
     "data": {
      "text/plain": [
       "{'prep__continues__pca__n_components': 7,\n",
       " 'clf__solver': 'lbfgs',\n",
       " 'clf__penalty': 'l2',\n",
       " 'clf__multi_class': 'multinomial',\n",
       " 'clf__class_weight': 'balanced'}"
      ]
     },
     "execution_count": 253,
     "metadata": {},
     "output_type": "execute_result"
    }
   ],
   "source": [
    "lr_cv.best_params_"
   ]
  },
  {
   "cell_type": "markdown",
   "id": "charitable-model",
   "metadata": {},
   "source": [
    "### Fit the final logistic regression model from the grid search result:\n"
   ]
  },
  {
   "cell_type": "code",
   "execution_count": 254,
   "id": "cardiovascular-return",
   "metadata": {},
   "outputs": [],
   "source": [
    "con_pipe = Pipeline([('imputer', SimpleImputer(strategy='median', add_indicator=True)),\n",
    "                     ('scaler', StandardScaler()),\n",
    "                     ('pca', PCA(n_components=14))])\n",
    "\n",
    "cat_pipe = Pipeline([('imputer', SimpleImputer(strategy='most_frequent', add_indicator=True)),\n",
    "                     ('ode', OrdinalEncoder(handle_unknown='ignore'))])\n",
    "\n",
    "preprocessing_final = ColumnTransformer([('categorical', cat_pipe, categorical_columns),\n",
    "                                   ('continues', con_pipe, numeric_columns)])\n",
    "\n",
    "pipe_lr_final = Pipeline([('prep', preprocessing_final),\n",
    "                    ('clf', LogisticRegression(solver='lbfgs',\n",
    "                                               penalty='l2',\n",
    "                                               multi_class='ovr',\n",
    "                                               class_weight='balanced'))])\n",
    "\n",
    "pipe_lr_final.fit(X_train, y_train)\n",
    "y_pred=pipe_lr_final.predict(X_test)"
   ]
  },
  {
   "cell_type": "markdown",
   "id": "natural-waterproof",
   "metadata": {},
   "source": [
    "### Evaluation metric on test set:"
   ]
  },
  {
   "cell_type": "code",
   "execution_count": 255,
   "id": "expensive-childhood",
   "metadata": {},
   "outputs": [
    {
     "data": {
      "image/png": "[encoded data removed]",
      "text/plain": [
       "<Figure size 432x288 with 1 Axes>"
      ]
     },
     "metadata": {
      "needs_background": "light"
     },
     "output_type": "display_data"
    }
   ],
   "source": [
    "# AUC ROC curve \n",
    "plot_roc_curve(pipe_lr_final,X_test, y_test)\n",
    "plt.show()"
   ]
  },
  {
   "cell_type": "code",
   "execution_count": 256,
   "id": "improving-shaft",
   "metadata": {},
   "outputs": [
    {
     "data": {
      "image/png": "[encoded data removed]",
      "text/plain": [
       "<Figure size 432x288 with 1 Axes>"
      ]
     },
     "metadata": {
      "needs_background": "light"
     },
     "output_type": "display_data"
    }
   ],
   "source": [
    "# PR curve, this is more reliable in class imbalance situation\n",
    "disp = plot_precision_recall_curve(pipe_lr_final, X_test, y_test)"
   ]
  },
  {
   "cell_type": "code",
   "execution_count": 257,
   "id": "executive-fortune",
   "metadata": {},
   "outputs": [
    {
     "name": "stdout",
     "output_type": "stream",
     "text": [
      "              precision    recall  f1-score   support\n",
      "\n",
      "           0       0.96      0.84      0.90      1692\n",
      "           1       0.51      0.84      0.63       334\n",
      "\n",
      "    accuracy                           0.84      2026\n",
      "   macro avg       0.74      0.84      0.77      2026\n",
      "weighted avg       0.89      0.84      0.85      2026\n",
      "\n",
      "Hold out set confusion matrix:\n",
      "[[1420  272]\n",
      " [  53  281]]\n"
     ]
    }
   ],
   "source": [
    "evaluate_model(y_test, y_pred, pipe_lr_final)"
   ]
  },
  {
   "cell_type": "code",
   "execution_count": 258,
   "id": "received-humanity",
   "metadata": {},
   "outputs": [
    {
     "data": {
      "text/plain": [
       "<AxesSubplot:>"
      ]
     },
     "execution_count": 258,
     "metadata": {},
     "output_type": "execute_result"
    },
    {
     "data": {
      "image/png": "[encoded data removed]",
      "text/plain": [
       "<Figure size 720x504 with 2 Axes>"
      ]
     },
     "metadata": {
      "needs_background": "light"
     },
     "output_type": "display_data"
    }
   ],
   "source": [
    "# Visualizae the confusion matrix (if churn then 1, else 0)\n",
    "import seaborn as sn\n",
    "import pandas as pd\n",
    "import matplotlib.pyplot as plt\n",
    "array = confusion_matrix(y_test, y_pred)\n",
    "df_cm = pd.DataFrame(array, index = [i for i in ['Actual Not Churn','Actual Churn']],\n",
    "                  columns = [i for i in ['Predicted Not Churn','Predicted Churn']])\n",
    "plt.figure(figsize = (10,7))\n",
    "sn.heatmap(df_cm, annot=True,cmap=\"Oranges\") "
   ]
  },
  {
   "cell_type": "markdown",
   "id": "affiliated-wireless",
   "metadata": {},
   "source": [
    "# Model 2: RandomForestClassifier"
   ]
  },
  {
   "cell_type": "code",
   "execution_count": 259,
   "id": "amazing-shift",
   "metadata": {},
   "outputs": [
    {
     "name": "stdout",
     "output_type": "stream",
     "text": [
      "Fitting 10 folds for each of 10 candidates, totalling 100 fits\n"
     ]
    },
    {
     "data": {
      "text/plain": [
       "RandomizedSearchCV(cv=10,\n",
       "                   estimator=Pipeline(steps=[('prep',\n",
       "                                              ColumnTransformer(transformers=[('categorical',\n",
       "                                                                               Pipeline(steps=[('imputer',\n",
       "                                                                                                SimpleImputer(add_indicator=True,\n",
       "                                                                                                              strategy='most_frequent')),\n",
       "                                                                                               ('ode',\n",
       "                                                                                                OrdinalEncoder(handle_unknown='ignore'))]),\n",
       "                                                                               ['Gender',\n",
       "                                                                                'Education_Level',\n",
       "                                                                                'Marital_Status',\n",
       "                                                                                'Income_Category',\n",
       "                                                                                'Card_Category']),\n",
       "                                                                              ('continues',\n",
       "                                                                               Pipeline(step...\n",
       "                                                                                'Total_Trans_Ct'])])),\n",
       "                                             ('clf',\n",
       "                                              RandomForestClassifier())]),\n",
       "                   n_jobs=-1,\n",
       "                   param_distributions={'clf__class_weight': ['balanced',\n",
       "                                                              'balanced_subsample'],\n",
       "                                        'clf__criterion': ['gini', 'entropy'],\n",
       "                                        'clf__max_depth': [5, 6, 7, 8, 10],\n",
       "                                        'clf__min_samples_split': [3, 5, 10, 15,\n",
       "                                                                   20],\n",
       "                                        'clf__n_estimators': [10, 20, 30, 60,\n",
       "                                                              100, 200],\n",
       "                                        'prep__continues__pca__n_components': [6,\n",
       "                                                                               7,\n",
       "                                                                               10,\n",
       "                                                                               14,\n",
       "                                                                               17]},\n",
       "                   verbose=True)"
      ]
     },
     "execution_count": 259,
     "metadata": {},
     "output_type": "execute_result"
    }
   ],
   "source": [
    "pipe_rf = Pipeline([('prep', preprocessing),\n",
    "                    ('clf', RandomForestClassifier())])\n",
    "\n",
    "hyperparamters = {'clf__n_estimators': [10, 20, 30, 60, 100, 200],\n",
    "                  'clf__min_samples_split': [3, 5, 10, 15, 20],\n",
    "                  'clf__criterion': ['gini', 'entropy'],\n",
    "                  'clf__class_weight': ['balanced', 'balanced_subsample'],\n",
    "                  'clf__max_depth': [5, 6, 7, 8, 10],\n",
    "                  'prep__continues__pca__n_components': [6, 7, 10, 14, 17]}\n",
    "\n",
    "\n",
    "# Hyperparameters turning with randomized search with 5-folds cross-validaiotion\n",
    "rf_cv = RandomizedSearchCV(estimator=pipe_rf,\n",
    "                           param_distributions=hyperparamters,\n",
    "                           cv=10,\n",
    "                           n_jobs=-1,\n",
    "                           verbose=True)\n",
    "\n",
    "rf_cv.fit(X_train, y_train)"
   ]
  },
  {
   "cell_type": "code",
   "execution_count": 260,
   "id": "macro-ecuador",
   "metadata": {},
   "outputs": [
    {
     "data": {
      "text/plain": [
       "{'prep__continues__pca__n_components': 10,\n",
       " 'clf__n_estimators': 60,\n",
       " 'clf__min_samples_split': 10,\n",
       " 'clf__max_depth': 8,\n",
       " 'clf__criterion': 'gini',\n",
       " 'clf__class_weight': 'balanced_subsample'}"
      ]
     },
     "execution_count": 260,
     "metadata": {},
     "output_type": "execute_result"
    }
   ],
   "source": [
    "rf_cv.best_params_"
   ]
  },
  {
   "cell_type": "markdown",
   "id": "confirmed-pregnancy",
   "metadata": {},
   "source": [
    "### Fit the final random forest classifier model from the grid search result:\n"
   ]
  },
  {
   "cell_type": "code",
   "execution_count": 261,
   "id": "advised-overall",
   "metadata": {},
   "outputs": [],
   "source": [
    "con_pipe = Pipeline([('imputer', SimpleImputer(strategy='median', add_indicator=True)),\n",
    "                     ('scaler', StandardScaler()),\n",
    "                     ('pca', PCA(n_components=14))])\n",
    "\n",
    "cat_pipe = Pipeline([('imputer', SimpleImputer(strategy='most_frequent', add_indicator=True)),\n",
    "                     ('ode', OrdinalEncoder(handle_unknown='ignore'))])\n",
    "\n",
    "preprocessing_final = ColumnTransformer([('categorical', cat_pipe, categorical_columns),\n",
    "                                   ('continues', con_pipe, numeric_columns)])\n",
    "\n",
    "pipe_rf_final = Pipeline([('prep', preprocessing_final),\n",
    "                    ('clf', RandomForestClassifier(n_estimators=60,\n",
    "                                                   min_samples_split=20,\n",
    "                                                   max_depth=8,\n",
    "                                                   criterion='entropy',\n",
    "                                                   class_weight='balanced'))])\n",
    "pipe_rf_final.fit(X_train, y_train)\n",
    "y_pred=pipe_rf_final.predict(X_test)"
   ]
  },
  {
   "cell_type": "markdown",
   "id": "noted-perry",
   "metadata": {},
   "source": [
    "### Evaluation metric on test set:"
   ]
  },
  {
   "cell_type": "code",
   "execution_count": 262,
   "id": "active-toyota",
   "metadata": {},
   "outputs": [
    {
     "data": {
      "text/plain": [
       "(2026, 388)"
      ]
     },
     "execution_count": 262,
     "metadata": {},
     "output_type": "execute_result"
    }
   ],
   "source": [
    "# churn is 1, non-churn is 0.\n",
    "len(y_pred),np.count_nonzero(y_pred)"
   ]
  },
  {
   "cell_type": "code",
   "execution_count": 263,
   "id": "corrected-logistics",
   "metadata": {},
   "outputs": [
    {
     "name": "stdout",
     "output_type": "stream",
     "text": [
      "              precision    recall  f1-score   support\n",
      "\n",
      "           0       0.96      0.93      0.94      1692\n",
      "           1       0.68      0.78      0.73       334\n",
      "\n",
      "    accuracy                           0.90      2026\n",
      "   macro avg       0.82      0.85      0.83      2026\n",
      "weighted avg       0.91      0.90      0.91      2026\n",
      "\n",
      "Hold out set confusion matrix:\n",
      "[[1566  126]\n",
      " [  72  262]]\n"
     ]
    }
   ],
   "source": [
    "evaluate_model(y_test, y_pred, pipe_rf_final)"
   ]
  },
  {
   "cell_type": "code",
   "execution_count": 264,
   "id": "right-rouge",
   "metadata": {},
   "outputs": [
    {
     "data": {
      "text/plain": [
       "<AxesSubplot:>"
      ]
     },
     "execution_count": 264,
     "metadata": {},
     "output_type": "execute_result"
    },
    {
     "data": {
      "image/png": "[encoded data removed]",
      "text/plain": [
       "<Figure size 720x504 with 2 Axes>"
      ]
     },
     "metadata": {
      "needs_background": "light"
     },
     "output_type": "display_data"
    }
   ],
   "source": [
    "# Visualizae the confusion matrix (if churn then 1, else 0)\n",
    "import seaborn as sn\n",
    "import pandas as pd\n",
    "import matplotlib.pyplot as plt\n",
    "array = confusion_matrix(y_test, y_pred)\n",
    "df_cm = pd.DataFrame(array, index = [i for i in ['Actual Not Churn','Actual Churn']],\n",
    "                  columns = [i for i in ['Predicted Not Churn','Predicted Churn']])\n",
    "plt.figure(figsize = (10,7))\n",
    "sn.heatmap(df_cm, annot=True,cmap=\"Oranges\") "
   ]
  },
  {
   "cell_type": "code",
   "execution_count": 265,
   "id": "rocky-cooper",
   "metadata": {},
   "outputs": [
    {
     "data": {
      "image/png": "[encoded data removed]",
      "text/plain": [
       "<Figure size 432x288 with 1 Axes>"
      ]
     },
     "metadata": {
      "needs_background": "light"
     },
     "output_type": "display_data"
    }
   ],
   "source": [
    "# AUC ROC curve \n",
    "plot_roc_curve(pipe_rf_final,X_test, y_test)\n",
    "plt.show()"
   ]
  },
  {
   "cell_type": "code",
   "execution_count": 266,
   "id": "micro-beads",
   "metadata": {},
   "outputs": [
    {
     "data": {
      "image/png": "[encoded data removed]",
      "text/plain": [
       "<Figure size 432x288 with 1 Axes>"
      ]
     },
     "metadata": {
      "needs_background": "light"
     },
     "output_type": "display_data"
    }
   ],
   "source": [
    "# PR curve, this is more reliable in class imbalance situation\n",
    "disp = plot_precision_recall_curve(pipe_rf_final, X_test, y_test)"
   ]
  },
  {
   "cell_type": "markdown",
   "id": "stable-apartment",
   "metadata": {},
   "source": [
    "### Get the feature importance and plot it from random forest classifier:"
   ]
  },
  {
   "cell_type": "code",
   "execution_count": 267,
   "id": "endless-packaging",
   "metadata": {},
   "outputs": [],
   "source": [
    "# https://www.kaggle.com/kylegilde/extracting-scikit-feature-names-importances\n",
    "# https://stackoverflow.com/questions/38787612/how-to-extract-feature-importances-from-an-sklearn-pipeline\n",
    "from feature_importance import FeatureImportance"
   ]
  },
  {
   "cell_type": "code",
   "execution_count": 279,
   "id": "spread-claim",
   "metadata": {
    "scrolled": false
   },
   "outputs": [
    {
     "data": {
      "application/vnd.plotly.v1+json": {
       "config": {
        "plotlyServerURL": "https://plot.ly"
       },
       "data": [
        {
         "alignmentgroup": "True",
         "hovertemplate": "value=%{x}<br>feature=%{y}<br>text=%{text}<extra></extra>",
         "legendgroup": "",
         "marker": {
          "color": "#636efa"
         },
         "name": "",
         "offsetgroup": "",
         "orientation": "h",
         "showlegend": false,
         "text": [
          0,
          0.4,
          1.7,
          1.7,
          1.7,
          1.8,
          7.7,
          7.9,
          9.7,
          12.1,
          14.1,
          19.2,
          23.7,
          24,
          26,
          52.5,
          69.4,
          73,
          100
         ],
         "textposition": "auto",
         "type": "bar",
         "x": [
          0,
          0.4459679713473475,
          1.6671615537726874,
          1.7002437472212362,
          1.7325157079580287,
          1.7776454722688073,
          7.651354504535887,
          7.921289698045725,
          9.663464746255439,
          12.102285346394654,
          14.085672963924578,
          19.162286220542786,
          23.74198045986188,
          24.015563563409422,
          26.027468275188948,
          52.47748821423113,
          69.35519672028182,
          73.02089695045686,
          100
         ],
         "xaxis": "x",
         "y": [
          "19.  Total_Trans_Ct",
          "18.   Card_Category",
          "17.  Marital_Status",
          "16. Education_Level",
          "15.          Gender",
          "14. Income_Category",
          "13. Months_Inactive_12_mon",
          "12. Avg_Open_To_Buy",
          "11.    Credit_Limit",
          "10. Avg_Utilization_Ratio",
          "9. Total_Revolving_Bal",
          "8.    Customer_Age",
          "7. Total_Relationship_Count",
          "6.  Months_on_book",
          "5. Total_Trans_Amt",
          "4. Total_Amt_Chng_Q4_Q1",
          "3. Total_Ct_Chng_Q4_Q1",
          "2. Contacts_Count_12_mon",
          "1. Dependent_count"
         ],
         "yaxis": "y"
        }
       ],
       "layout": {
        "barmode": "relative",
        "height": 500,
        "legend": {
         "tracegroupgap": 0
        },
        "margin": {
         "t": 60
        },
        "showlegend": false,
        "template": {
         "data": {
          "bar": [
           {
            "error_x": {
             "color": "#2a3f5f"
            },
            "error_y": {
             "color": "#2a3f5f"
            },
            "marker": {
             "line": {
              "color": "#E5ECF6",
              "width": 0.5
             }
            },
            "type": "bar"
           }
          ],
          "barpolar": [
           {
            "marker": {
             "line": {
              "color": "#E5ECF6",
              "width": 0.5
             }
            },
            "type": "barpolar"
           }
          ],
          "carpet": [
           {
            "aaxis": {
             "endlinecolor": "#2a3f5f",
             "gridcolor": "white",
             "linecolor": "white",
             "minorgridcolor": "white",
             "startlinecolor": "#2a3f5f"
            },
            "baxis": {
             "endlinecolor": "#2a3f5f",
             "gridcolor": "white",
             "linecolor": "white",
             "minorgridcolor": "white",
             "startlinecolor": "#2a3f5f"
            },
            "type": "carpet"
           }
          ],
          "choropleth": [
           {
            "colorbar": {
             "outlinewidth": 0,
             "ticks": ""
            },
            "type": "choropleth"
           }
          ],
          "contour": [
           {
            "colorbar": {
             "outlinewidth": 0,
             "ticks": ""
            },
            "colorscale": [
             [
              0,
              "#0d0887"
             ],
             [
              0.1111111111111111,
              "#46039f"
             ],
             [
              0.2222222222222222,
              "#7201a8"
             ],
             [
              0.3333333333333333,
              "#9c179e"
             ],
             [
              0.4444444444444444,
              "#bd3786"
             ],
             [
              0.5555555555555556,
              "#d8576b"
             ],
             [
              0.6666666666666666,
              "#ed7953"
             ],
             [
              0.7777777777777778,
              "#fb9f3a"
             ],
             [
              0.8888888888888888,
              "#fdca26"
             ],
             [
              1,
              "#f0f921"
             ]
            ],
            "type": "contour"
           }
          ],
          "contourcarpet": [
           {
            "colorbar": {
             "outlinewidth": 0,
             "ticks": ""
            },
            "type": "contourcarpet"
           }
          ],
          "heatmap": [
           {
            "colorbar": {
             "outlinewidth": 0,
             "ticks": ""
            },
            "colorscale": [
             [
              0,
              "#0d0887"
             ],
             [
              0.1111111111111111,
              "#46039f"
             ],
             [
              0.2222222222222222,
              "#7201a8"
             ],
             [
              0.3333333333333333,
              "#9c179e"
             ],
             [
              0.4444444444444444,
              "#bd3786"
             ],
             [
              0.5555555555555556,
              "#d8576b"
             ],
             [
              0.6666666666666666,
              "#ed7953"
             ],
             [
              0.7777777777777778,
              "#fb9f3a"
             ],
             [
              0.8888888888888888,
              "#fdca26"
             ],
             [
              1,
              "#f0f921"
             ]
            ],
            "type": "heatmap"
           }
          ],
          "heatmapgl": [
           {
            "colorbar": {
             "outlinewidth": 0,
             "ticks": ""
            },
            "colorscale": [
             [
              0,
              "#0d0887"
             ],
             [
              0.1111111111111111,
              "#46039f"
             ],
             [
              0.2222222222222222,
              "#7201a8"
             ],
             [
              0.3333333333333333,
              "#9c179e"
             ],
             [
              0.4444444444444444,
              "#bd3786"
             ],
             [
              0.5555555555555556,
              "#d8576b"
             ],
             [
              0.6666666666666666,
              "#ed7953"
             ],
             [
              0.7777777777777778,
              "#fb9f3a"
             ],
             [
              0.8888888888888888,
              "#fdca26"
             ],
             [
              1,
              "#f0f921"
             ]
            ],
            "type": "heatmapgl"
           }
          ],
          "histogram": [
           {
            "marker": {
             "colorbar": {
              "outlinewidth": 0,
              "ticks": ""
             }
            },
            "type": "histogram"
           }
          ],
          "histogram2d": [
           {
            "colorbar": {
             "outlinewidth": 0,
             "ticks": ""
            },
            "colorscale": [
             [
              0,
              "#0d0887"
             ],
             [
              0.1111111111111111,
              "#46039f"
             ],
             [
              0.2222222222222222,
              "#7201a8"
             ],
             [
              0.3333333333333333,
              "#9c179e"
             ],
             [
              0.4444444444444444,
              "#bd3786"
             ],
             [
              0.5555555555555556,
              "#d8576b"
             ],
             [
              0.6666666666666666,
              "#ed7953"
             ],
             [
              0.7777777777777778,
              "#fb9f3a"
             ],
             [
              0.8888888888888888,
              "#fdca26"
             ],
             [
              1,
              "#f0f921"
             ]
            ],
            "type": "histogram2d"
           }
          ],
          "histogram2dcontour": [
           {
            "colorbar": {
             "outlinewidth": 0,
             "ticks": ""
            },
            "colorscale": [
             [
              0,
              "#0d0887"
             ],
             [
              0.1111111111111111,
              "#46039f"
             ],
             [
              0.2222222222222222,
              "#7201a8"
             ],
             [
              0.3333333333333333,
              "#9c179e"
             ],
             [
              0.4444444444444444,
              "#bd3786"
             ],
             [
              0.5555555555555556,
              "#d8576b"
             ],
             [
              0.6666666666666666,
              "#ed7953"
             ],
             [
              0.7777777777777778,
              "#fb9f3a"
             ],
             [
              0.8888888888888888,
              "#fdca26"
             ],
             [
              1,
              "#f0f921"
             ]
            ],
            "type": "histogram2dcontour"
           }
          ],
          "mesh3d": [
           {
            "colorbar": {
             "outlinewidth": 0,
             "ticks": ""
            },
            "type": "mesh3d"
           }
          ],
          "parcoords": [
           {
            "line": {
             "colorbar": {
              "outlinewidth": 0,
              "ticks": ""
             }
            },
            "type": "parcoords"
           }
          ],
          "pie": [
           {
            "automargin": true,
            "type": "pie"
           }
          ],
          "scatter": [
           {
            "marker": {
             "colorbar": {
              "outlinewidth": 0,
              "ticks": ""
             }
            },
            "type": "scatter"
           }
          ],
          "scatter3d": [
           {
            "line": {
             "colorbar": {
              "outlinewidth": 0,
              "ticks": ""
             }
            },
            "marker": {
             "colorbar": {
              "outlinewidth": 0,
              "ticks": ""
             }
            },
            "type": "scatter3d"
           }
          ],
          "scattercarpet": [
           {
            "marker": {
             "colorbar": {
              "outlinewidth": 0,
              "ticks": ""
             }
            },
            "type": "scattercarpet"
           }
          ],
          "scattergeo": [
           {
            "marker": {
             "colorbar": {
              "outlinewidth": 0,
              "ticks": ""
             }
            },
            "type": "scattergeo"
           }
          ],
          "scattergl": [
           {
            "marker": {
             "colorbar": {
              "outlinewidth": 0,
              "ticks": ""
             }
            },
            "type": "scattergl"
           }
          ],
          "scattermapbox": [
           {
            "marker": {
             "colorbar": {
              "outlinewidth": 0,
              "ticks": ""
             }
            },
            "type": "scattermapbox"
           }
          ],
          "scatterpolar": [
           {
            "marker": {
             "colorbar": {
              "outlinewidth": 0,
              "ticks": ""
             }
            },
            "type": "scatterpolar"
           }
          ],
          "scatterpolargl": [
           {
            "marker": {
             "colorbar": {
              "outlinewidth": 0,
              "ticks": ""
             }
            },
            "type": "scatterpolargl"
           }
          ],
          "scatterternary": [
           {
            "marker": {
             "colorbar": {
              "outlinewidth": 0,
              "ticks": ""
             }
            },
            "type": "scatterternary"
           }
          ],
          "surface": [
           {
            "colorbar": {
             "outlinewidth": 0,
             "ticks": ""
            },
            "colorscale": [
             [
              0,
              "#0d0887"
             ],
             [
              0.1111111111111111,
              "#46039f"
             ],
             [
              0.2222222222222222,
              "#7201a8"
             ],
             [
              0.3333333333333333,
              "#9c179e"
             ],
             [
              0.4444444444444444,
              "#bd3786"
             ],
             [
              0.5555555555555556,
              "#d8576b"
             ],
             [
              0.6666666666666666,
              "#ed7953"
             ],
             [
              0.7777777777777778,
              "#fb9f3a"
             ],
             [
              0.8888888888888888,
              "#fdca26"
             ],
             [
              1,
              "#f0f921"
             ]
            ],
            "type": "surface"
           }
          ],
          "table": [
           {
            "cells": {
             "fill": {
              "color": "#EBF0F8"
             },
             "line": {
              "color": "white"
             }
            },
            "header": {
             "fill": {
              "color": "#C8D4E3"
             },
             "line": {
              "color": "white"
             }
            },
            "type": "table"
           }
          ]
         },
         "layout": {
          "annotationdefaults": {
           "arrowcolor": "#2a3f5f",
           "arrowhead": 0,
           "arrowwidth": 1
          },
          "autotypenumbers": "strict",
          "coloraxis": {
           "colorbar": {
            "outlinewidth": 0,
            "ticks": ""
           }
          },
          "colorscale": {
           "diverging": [
            [
             0,
             "#8e0152"
            ],
            [
             0.1,
             "#c51b7d"
            ],
            [
             0.2,
             "#de77ae"
            ],
            [
             0.3,
             "#f1b6da"
            ],
            [
             0.4,
             "#fde0ef"
            ],
            [
             0.5,
             "#f7f7f7"
            ],
            [
             0.6,
             "#e6f5d0"
            ],
            [
             0.7,
             "#b8e186"
            ],
            [
             0.8,
             "#7fbc41"
            ],
            [
             0.9,
             "#4d9221"
            ],
            [
             1,
             "#276419"
            ]
           ],
           "sequential": [
            [
             0,
             "#0d0887"
            ],
            [
             0.1111111111111111,
             "#46039f"
            ],
            [
             0.2222222222222222,
             "#7201a8"
            ],
            [
             0.3333333333333333,
             "#9c179e"
            ],
            [
             0.4444444444444444,
             "#bd3786"
            ],
            [
             0.5555555555555556,
             "#d8576b"
            ],
            [
             0.6666666666666666,
             "#ed7953"
            ],
            [
             0.7777777777777778,
             "#fb9f3a"
            ],
            [
             0.8888888888888888,
             "#fdca26"
            ],
            [
             1,
             "#f0f921"
            ]
           ],
           "sequentialminus": [
            [
             0,
             "#0d0887"
            ],
            [
             0.1111111111111111,
             "#46039f"
            ],
            [
             0.2222222222222222,
             "#7201a8"
            ],
            [
             0.3333333333333333,
             "#9c179e"
            ],
            [
             0.4444444444444444,
             "#bd3786"
            ],
            [
             0.5555555555555556,
             "#d8576b"
            ],
            [
             0.6666666666666666,
             "#ed7953"
            ],
            [
             0.7777777777777778,
             "#fb9f3a"
            ],
            [
             0.8888888888888888,
             "#fdca26"
            ],
            [
             1,
             "#f0f921"
            ]
           ]
          },
          "colorway": [
           "#636efa",
           "#EF553B",
           "#00cc96",
           "#ab63fa",
           "#FFA15A",
           "#19d3f3",
           "#FF6692",
           "#B6E880",
           "#FF97FF",
           "#FECB52"
          ],
          "font": {
           "color": "#2a3f5f"
          },
          "geo": {
           "bgcolor": "white",
           "lakecolor": "white",
           "landcolor": "#E5ECF6",
           "showlakes": true,
           "showland": true,
           "subunitcolor": "white"
          },
          "hoverlabel": {
           "align": "left"
          },
          "hovermode": "closest",
          "mapbox": {
           "style": "light"
          },
          "paper_bgcolor": "white",
          "plot_bgcolor": "#E5ECF6",
          "polar": {
           "angularaxis": {
            "gridcolor": "white",
            "linecolor": "white",
            "ticks": ""
           },
           "bgcolor": "#E5ECF6",
           "radialaxis": {
            "gridcolor": "white",
            "linecolor": "white",
            "ticks": ""
           }
          },
          "scene": {
           "xaxis": {
            "backgroundcolor": "#E5ECF6",
            "gridcolor": "white",
            "gridwidth": 2,
            "linecolor": "white",
            "showbackground": true,
            "ticks": "",
            "zerolinecolor": "white"
           },
           "yaxis": {
            "backgroundcolor": "#E5ECF6",
            "gridcolor": "white",
            "gridwidth": 2,
            "linecolor": "white",
            "showbackground": true,
            "ticks": "",
            "zerolinecolor": "white"
           },
           "zaxis": {
            "backgroundcolor": "#E5ECF6",
            "gridcolor": "white",
            "gridwidth": 2,
            "linecolor": "white",
            "showbackground": true,
            "ticks": "",
            "zerolinecolor": "white"
           }
          },
          "shapedefaults": {
           "line": {
            "color": "#2a3f5f"
           }
          },
          "ternary": {
           "aaxis": {
            "gridcolor": "white",
            "linecolor": "white",
            "ticks": ""
           },
           "baxis": {
            "gridcolor": "white",
            "linecolor": "white",
            "ticks": ""
           },
           "bgcolor": "#E5ECF6",
           "caxis": {
            "gridcolor": "white",
            "linecolor": "white",
            "ticks": ""
           }
          },
          "title": {
           "x": 0.05
          },
          "xaxis": {
           "automargin": true,
           "gridcolor": "white",
           "linecolor": "white",
           "ticks": "",
           "title": {
            "standoff": 15
           },
           "zerolinecolor": "white",
           "zerolinewidth": 2
          },
          "yaxis": {
           "automargin": true,
           "gridcolor": "white",
           "linecolor": "white",
           "ticks": "",
           "title": {
            "standoff": 15
           },
           "zerolinecolor": "white",
           "zerolinewidth": 2
          }
         }
        },
        "title": {
         "text": "All Feature Importances",
         "x": 0.5
        },
        "width": 750,
        "xaxis": {
         "anchor": "y",
         "domain": [
          0,
          1
         ],
         "title": {
          "text": "value"
         }
        },
        "yaxis": {
         "anchor": "x",
         "domain": [
          0,
          1
         ],
         "tickfont": {
          "family": "Courier New",
          "size": 15
         },
         "title": {
          "text": ""
         }
        }
       }
      },
      "text/html": [
       "<div>                            <div id=\"9fb3743b-b175-49a6-878e-f6bd8276e61d\" class=\"plotly-graph-div\" style=\"height:500px; width:750px;\"></div>            <script type=\"text/javascript\">                require([\"plotly\"], function(Plotly) {                    window.PLOTLYENV=window.PLOTLYENV || {};                                    if (document.getElementById(\"9fb3743b-b175-49a6-878e-f6bd8276e61d\")) {                    Plotly.newPlot(                        \"9fb3743b-b175-49a6-878e-f6bd8276e61d\",                        [{\"alignmentgroup\": \"True\", \"hovertemplate\": \"value=%{x}<br>feature=%{y}<br>text=%{text}<extra></extra>\", \"legendgroup\": \"\", \"marker\": {\"color\": \"#636efa\"}, \"name\": \"\", \"offsetgroup\": \"\", \"orientation\": \"h\", \"showlegend\": false, \"text\": [0.0, 0.4, 1.7, 1.7, 1.7, 1.8, 7.7, 7.9, 9.7, 12.1, 14.1, 19.2, 23.7, 24.0, 26.0, 52.5, 69.4, 73.0, 100.0], \"textposition\": \"auto\", \"type\": \"bar\", \"x\": [0.0, 0.4459679713473475, 1.6671615537726874, 1.7002437472212362, 1.7325157079580287, 1.7776454722688073, 7.651354504535887, 7.921289698045725, 9.663464746255439, 12.102285346394654, 14.085672963924578, 19.162286220542786, 23.74198045986188, 24.015563563409422, 26.027468275188948, 52.47748821423113, 69.35519672028182, 73.02089695045686, 100.0], \"xaxis\": \"x\", \"y\": [\"19.  Total_Trans_Ct\", \"18.   Card_Category\", \"17.  Marital_Status\", \"16. Education_Level\", \"15.          Gender\", \"14. Income_Category\", \"13. Months_Inactive_12_mon\", \"12. Avg_Open_To_Buy\", \"11.    Credit_Limit\", \"10. Avg_Utilization_Ratio\", \"9. Total_Revolving_Bal\", \"8.    Customer_Age\", \"7. Total_Relationship_Count\", \"6.  Months_on_book\", \"5. Total_Trans_Amt\", \"4. Total_Amt_Chng_Q4_Q1\", \"3. Total_Ct_Chng_Q4_Q1\", \"2. Contacts_Count_12_mon\", \"1. Dependent_count\"], \"yaxis\": \"y\"}],                        {\"barmode\": \"relative\", \"height\": 500, \"legend\": {\"tracegroupgap\": 0}, \"margin\": {\"t\": 60}, \"showlegend\": false, \"template\": {\"data\": {\"bar\": [{\"error_x\": {\"color\": \"#2a3f5f\"}, \"error_y\": {\"color\": \"#2a3f5f\"}, \"marker\": {\"line\": {\"color\": \"#E5ECF6\", \"width\": 0.5}}, \"type\": \"bar\"}], \"barpolar\": [{\"marker\": {\"line\": {\"color\": \"#E5ECF6\", \"width\": 0.5}}, \"type\": \"barpolar\"}], \"carpet\": [{\"aaxis\": {\"endlinecolor\": \"#2a3f5f\", \"gridcolor\": \"white\", \"linecolor\": \"white\", \"minorgridcolor\": \"white\", \"startlinecolor\": \"#2a3f5f\"}, \"baxis\": {\"endlinecolor\": \"#2a3f5f\", \"gridcolor\": \"white\", \"linecolor\": \"white\", \"minorgridcolor\": \"white\", \"startlinecolor\": \"#2a3f5f\"}, \"type\": \"carpet\"}], \"choropleth\": [{\"colorbar\": {\"outlinewidth\": 0, \"ticks\": \"\"}, \"type\": \"choropleth\"}], \"contour\": [{\"colorbar\": {\"outlinewidth\": 0, \"ticks\": \"\"}, \"colorscale\": [[0.0, \"#0d0887\"], [0.1111111111111111, \"#46039f\"], [0.2222222222222222, \"#7201a8\"], [0.3333333333333333, \"#9c179e\"], [0.4444444444444444, \"#bd3786\"], [0.5555555555555556, \"#d8576b\"], [0.6666666666666666, \"#ed7953\"], [0.7777777777777778, \"#fb9f3a\"], [0.8888888888888888, \"#fdca26\"], [1.0, \"#f0f921\"]], \"type\": \"contour\"}], \"contourcarpet\": [{\"colorbar\": {\"outlinewidth\": 0, \"ticks\": \"\"}, \"type\": \"contourcarpet\"}], \"heatmap\": [{\"colorbar\": {\"outlinewidth\": 0, \"ticks\": \"\"}, \"colorscale\": [[0.0, \"#0d0887\"], [0.1111111111111111, \"#46039f\"], [0.2222222222222222, \"#7201a8\"], [0.3333333333333333, \"#9c179e\"], [0.4444444444444444, \"#bd3786\"], [0.5555555555555556, \"#d8576b\"], [0.6666666666666666, \"#ed7953\"], [0.7777777777777778, \"#fb9f3a\"], [0.8888888888888888, \"#fdca26\"], [1.0, \"#f0f921\"]], \"type\": \"heatmap\"}], \"heatmapgl\": [{\"colorbar\": {\"outlinewidth\": 0, \"ticks\": \"\"}, \"colorscale\": [[0.0, \"#0d0887\"], [0.1111111111111111, \"#46039f\"], [0.2222222222222222, \"#7201a8\"], [0.3333333333333333, \"#9c179e\"], [0.4444444444444444, \"#bd3786\"], [0.5555555555555556, \"#d8576b\"], [0.6666666666666666, \"#ed7953\"], [0.7777777777777778, \"#fb9f3a\"], [0.8888888888888888, \"#fdca26\"], [1.0, \"#f0f921\"]], \"type\": \"heatmapgl\"}], \"histogram\": [{\"marker\": {\"colorbar\": {\"outlinewidth\": 0, \"ticks\": \"\"}}, \"type\": \"histogram\"}], \"histogram2d\": [{\"colorbar\": {\"outlinewidth\": 0, \"ticks\": \"\"}, \"colorscale\": [[0.0, \"#0d0887\"], [0.1111111111111111, \"#46039f\"], [0.2222222222222222, \"#7201a8\"], [0.3333333333333333, \"#9c179e\"], [0.4444444444444444, \"#bd3786\"], [0.5555555555555556, \"#d8576b\"], [0.6666666666666666, \"#ed7953\"], [0.7777777777777778, \"#fb9f3a\"], [0.8888888888888888, \"#fdca26\"], [1.0, \"#f0f921\"]], \"type\": \"histogram2d\"}], \"histogram2dcontour\": [{\"colorbar\": {\"outlinewidth\": 0, \"ticks\": \"\"}, \"colorscale\": [[0.0, \"#0d0887\"], [0.1111111111111111, \"#46039f\"], [0.2222222222222222, \"#7201a8\"], [0.3333333333333333, \"#9c179e\"], [0.4444444444444444, \"#bd3786\"], [0.5555555555555556, \"#d8576b\"], [0.6666666666666666, \"#ed7953\"], [0.7777777777777778, \"#fb9f3a\"], [0.8888888888888888, \"#fdca26\"], [1.0, \"#f0f921\"]], \"type\": \"histogram2dcontour\"}], \"mesh3d\": [{\"colorbar\": {\"outlinewidth\": 0, \"ticks\": \"\"}, \"type\": \"mesh3d\"}], \"parcoords\": [{\"line\": {\"colorbar\": {\"outlinewidth\": 0, \"ticks\": \"\"}}, \"type\": \"parcoords\"}], \"pie\": [{\"automargin\": true, \"type\": \"pie\"}], \"scatter\": [{\"marker\": {\"colorbar\": {\"outlinewidth\": 0, \"ticks\": \"\"}}, \"type\": \"scatter\"}], \"scatter3d\": [{\"line\": {\"colorbar\": {\"outlinewidth\": 0, \"ticks\": \"\"}}, \"marker\": {\"colorbar\": {\"outlinewidth\": 0, \"ticks\": \"\"}}, \"type\": \"scatter3d\"}], \"scattercarpet\": [{\"marker\": {\"colorbar\": {\"outlinewidth\": 0, \"ticks\": \"\"}}, \"type\": \"scattercarpet\"}], \"scattergeo\": [{\"marker\": {\"colorbar\": {\"outlinewidth\": 0, \"ticks\": \"\"}}, \"type\": \"scattergeo\"}], \"scattergl\": [{\"marker\": {\"colorbar\": {\"outlinewidth\": 0, \"ticks\": \"\"}}, \"type\": \"scattergl\"}], \"scattermapbox\": [{\"marker\": {\"colorbar\": {\"outlinewidth\": 0, \"ticks\": \"\"}}, \"type\": \"scattermapbox\"}], \"scatterpolar\": [{\"marker\": {\"colorbar\": {\"outlinewidth\": 0, \"ticks\": \"\"}}, \"type\": \"scatterpolar\"}], \"scatterpolargl\": [{\"marker\": {\"colorbar\": {\"outlinewidth\": 0, \"ticks\": \"\"}}, \"type\": \"scatterpolargl\"}], \"scatterternary\": [{\"marker\": {\"colorbar\": {\"outlinewidth\": 0, \"ticks\": \"\"}}, \"type\": \"scatterternary\"}], \"surface\": [{\"colorbar\": {\"outlinewidth\": 0, \"ticks\": \"\"}, \"colorscale\": [[0.0, \"#0d0887\"], [0.1111111111111111, \"#46039f\"], [0.2222222222222222, \"#7201a8\"], [0.3333333333333333, \"#9c179e\"], [0.4444444444444444, \"#bd3786\"], [0.5555555555555556, \"#d8576b\"], [0.6666666666666666, \"#ed7953\"], [0.7777777777777778, \"#fb9f3a\"], [0.8888888888888888, \"#fdca26\"], [1.0, \"#f0f921\"]], \"type\": \"surface\"}], \"table\": [{\"cells\": {\"fill\": {\"color\": \"#EBF0F8\"}, \"line\": {\"color\": \"white\"}}, \"header\": {\"fill\": {\"color\": \"#C8D4E3\"}, \"line\": {\"color\": \"white\"}}, \"type\": \"table\"}]}, \"layout\": {\"annotationdefaults\": {\"arrowcolor\": \"#2a3f5f\", \"arrowhead\": 0, \"arrowwidth\": 1}, \"autotypenumbers\": \"strict\", \"coloraxis\": {\"colorbar\": {\"outlinewidth\": 0, \"ticks\": \"\"}}, \"colorscale\": {\"diverging\": [[0, \"#8e0152\"], [0.1, \"#c51b7d\"], [0.2, \"#de77ae\"], [0.3, \"#f1b6da\"], [0.4, \"#fde0ef\"], [0.5, \"#f7f7f7\"], [0.6, \"#e6f5d0\"], [0.7, \"#b8e186\"], [0.8, \"#7fbc41\"], [0.9, \"#4d9221\"], [1, \"#276419\"]], \"sequential\": [[0.0, \"#0d0887\"], [0.1111111111111111, \"#46039f\"], [0.2222222222222222, \"#7201a8\"], [0.3333333333333333, \"#9c179e\"], [0.4444444444444444, \"#bd3786\"], [0.5555555555555556, \"#d8576b\"], [0.6666666666666666, \"#ed7953\"], [0.7777777777777778, \"#fb9f3a\"], [0.8888888888888888, \"#fdca26\"], [1.0, \"#f0f921\"]], \"sequentialminus\": [[0.0, \"#0d0887\"], [0.1111111111111111, \"#46039f\"], [0.2222222222222222, \"#7201a8\"], [0.3333333333333333, \"#9c179e\"], [0.4444444444444444, \"#bd3786\"], [0.5555555555555556, \"#d8576b\"], [0.6666666666666666, \"#ed7953\"], [0.7777777777777778, \"#fb9f3a\"], [0.8888888888888888, \"#fdca26\"], [1.0, \"#f0f921\"]]}, \"colorway\": [\"#636efa\", \"#EF553B\", \"#00cc96\", \"#ab63fa\", \"#FFA15A\", \"#19d3f3\", \"#FF6692\", \"#B6E880\", \"#FF97FF\", \"#FECB52\"], \"font\": {\"color\": \"#2a3f5f\"}, \"geo\": {\"bgcolor\": \"white\", \"lakecolor\": \"white\", \"landcolor\": \"#E5ECF6\", \"showlakes\": true, \"showland\": true, \"subunitcolor\": \"white\"}, \"hoverlabel\": {\"align\": \"left\"}, \"hovermode\": \"closest\", \"mapbox\": {\"style\": \"light\"}, \"paper_bgcolor\": \"white\", \"plot_bgcolor\": \"#E5ECF6\", \"polar\": {\"angularaxis\": {\"gridcolor\": \"white\", \"linecolor\": \"white\", \"ticks\": \"\"}, \"bgcolor\": \"#E5ECF6\", \"radialaxis\": {\"gridcolor\": \"white\", \"linecolor\": \"white\", \"ticks\": \"\"}}, \"scene\": {\"xaxis\": {\"backgroundcolor\": \"#E5ECF6\", \"gridcolor\": \"white\", \"gridwidth\": 2, \"linecolor\": \"white\", \"showbackground\": true, \"ticks\": \"\", \"zerolinecolor\": \"white\"}, \"yaxis\": {\"backgroundcolor\": \"#E5ECF6\", \"gridcolor\": \"white\", \"gridwidth\": 2, \"linecolor\": \"white\", \"showbackground\": true, \"ticks\": \"\", \"zerolinecolor\": \"white\"}, \"zaxis\": {\"backgroundcolor\": \"#E5ECF6\", \"gridcolor\": \"white\", \"gridwidth\": 2, \"linecolor\": \"white\", \"showbackground\": true, \"ticks\": \"\", \"zerolinecolor\": \"white\"}}, \"shapedefaults\": {\"line\": {\"color\": \"#2a3f5f\"}}, \"ternary\": {\"aaxis\": {\"gridcolor\": \"white\", \"linecolor\": \"white\", \"ticks\": \"\"}, \"baxis\": {\"gridcolor\": \"white\", \"linecolor\": \"white\", \"ticks\": \"\"}, \"bgcolor\": \"#E5ECF6\", \"caxis\": {\"gridcolor\": \"white\", \"linecolor\": \"white\", \"ticks\": \"\"}}, \"title\": {\"x\": 0.05}, \"xaxis\": {\"automargin\": true, \"gridcolor\": \"white\", \"linecolor\": \"white\", \"ticks\": \"\", \"title\": {\"standoff\": 15}, \"zerolinecolor\": \"white\", \"zerolinewidth\": 2}, \"yaxis\": {\"automargin\": true, \"gridcolor\": \"white\", \"linecolor\": \"white\", \"ticks\": \"\", \"title\": {\"standoff\": 15}, \"zerolinecolor\": \"white\", \"zerolinewidth\": 2}}}, \"title\": {\"text\": \"All Feature Importances\", \"x\": 0.5}, \"width\": 750, \"xaxis\": {\"anchor\": \"y\", \"domain\": [0.0, 1.0], \"title\": {\"text\": \"value\"}}, \"yaxis\": {\"anchor\": \"x\", \"domain\": [0.0, 1.0], \"tickfont\": {\"family\": \"Courier New\", \"size\": 15}, \"title\": {\"text\": \"\"}}},                        {\"responsive\": true}                    ).then(function(){\n",
       "                            \n",
       "var gd = document.getElementById('9fb3743b-b175-49a6-878e-f6bd8276e61d');\n",
       "var x = new MutationObserver(function (mutations, observer) {{\n",
       "        var display = window.getComputedStyle(gd).display;\n",
       "        if (!display || display === 'none') {{\n",
       "            console.log([gd, 'removed!']);\n",
       "            Plotly.purge(gd);\n",
       "            observer.disconnect();\n",
       "        }}\n",
       "}});\n",
       "\n",
       "// Listen for the removal of the full notebook cells\n",
       "var notebookContainer = gd.closest('#notebook-container');\n",
       "if (notebookContainer) {{\n",
       "    x.observe(notebookContainer, {childList: true});\n",
       "}}\n",
       "\n",
       "// Listen for the clearing of the current output cell\n",
       "var outputEl = gd.closest('.output');\n",
       "if (outputEl) {{\n",
       "    x.observe(outputEl, {childList: true});\n",
       "}}\n",
       "\n",
       "                        })                };                });            </script>        </div>"
      ]
     },
     "metadata": {},
     "output_type": "display_data"
    }
   ],
   "source": [
    "feature_importance = FeatureImportance(pipe_rf_final)\n",
    "feature_importance.plot(top_n_features=20)"
   ]
  },
  {
   "cell_type": "markdown",
   "id": "norwegian-panic",
   "metadata": {},
   "source": [
    "###### Just by comparing average PR score and PR curve on the test set, random forest outperform logistic regression.\n",
    "\n",
    "From the feature importance plots from random forest "
   ]
  },
  {
   "cell_type": "code",
   "execution_count": 269,
   "id": "waiting-works",
   "metadata": {},
   "outputs": [],
   "source": [
    "# pipe_rf_final[-1].feature_importances_"
   ]
  },
  {
   "cell_type": "markdown",
   "id": "prospective-manhattan",
   "metadata": {},
   "source": [
    "# Model 3: GradientBoostingClassifier"
   ]
  },
  {
   "cell_type": "code",
   "execution_count": 270,
   "id": "determined-survival",
   "metadata": {},
   "outputs": [
    {
     "name": "stdout",
     "output_type": "stream",
     "text": [
      "Fitting 10 folds for each of 10 candidates, totalling 100 fits\n"
     ]
    },
    {
     "data": {
      "text/plain": [
       "RandomizedSearchCV(cv=10,\n",
       "                   estimator=Pipeline(steps=[('prep',\n",
       "                                              ColumnTransformer(transformers=[('categorical',\n",
       "                                                                               Pipeline(steps=[('imputer',\n",
       "                                                                                                SimpleImputer(add_indicator=True,\n",
       "                                                                                                              strategy='most_frequent')),\n",
       "                                                                                               ('ode',\n",
       "                                                                                                OrdinalEncoder(handle_unknown='ignore'))]),\n",
       "                                                                               ['Gender',\n",
       "                                                                                'Education_Level',\n",
       "                                                                                'Marital_Status',\n",
       "                                                                                'Income_Category',\n",
       "                                                                                'Card_Category']),\n",
       "                                                                              ('continues',\n",
       "                                                                               Pipeline(step...\n",
       "                                              GradientBoostingClassifier())]),\n",
       "                   n_jobs=-1,\n",
       "                   param_distributions={'clf__loss': ['deviance',\n",
       "                                                      'exponential'],\n",
       "                                        'clf__max_depth': [2, 3, 4, 5, 6, 7, 8,\n",
       "                                                           10],\n",
       "                                        'clf__min_samples_split': [5, 10, 15,\n",
       "                                                                   20],\n",
       "                                        'clf__min_weight_fraction_leaf': [0.3,\n",
       "                                                                          0.5,\n",
       "                                                                          0.7,\n",
       "                                                                          0],\n",
       "                                        'clf__n_estimators': [80, 100, 120,\n",
       "                                                              150],\n",
       "                                        'clf__subsample': [0.5, 0.8, 1],\n",
       "                                        'prep__continues__pca__n_components': [6,\n",
       "                                                                               7,\n",
       "                                                                               10,\n",
       "                                                                               14,\n",
       "                                                                               17]},\n",
       "                   verbose=True)"
      ]
     },
     "execution_count": 270,
     "metadata": {},
     "output_type": "execute_result"
    }
   ],
   "source": [
    "pipe_GB = Pipeline([('prep', preprocessing),\n",
    "                    ('clf', GradientBoostingClassifier())])\n",
    "\n",
    "hyperparamters = {'clf__loss': ['deviance','exponential'],\n",
    "                  'clf__n_estimators': [80,100,120,150],\n",
    "                  'clf__subsample': [0.5,0.8,1],\n",
    "                  'clf__min_samples_split': [5,10,15,20],\n",
    "                  'clf__max_depth': [2,3,4,5,6, 7, 8, 10],\n",
    "                  'clf__min_weight_fraction_leaf': [0.3,0.5,0.7,0],\n",
    "                  'prep__continues__pca__n_components': [6, 7, 10, 14, 17]}\n",
    "\n",
    "\n",
    "# Hyperparameters turning with randomized search with 5-folds cross-validaiotion\n",
    "GB_cv = RandomizedSearchCV(estimator=pipe_GB,\n",
    "                           param_distributions=hyperparamters,\n",
    "                           cv=10,\n",
    "                           n_jobs=-1,\n",
    "                           verbose=True)\n",
    "\n",
    "GB_cv.fit(X_train, y_train)"
   ]
  },
  {
   "cell_type": "code",
   "execution_count": 271,
   "id": "satellite-passport",
   "metadata": {},
   "outputs": [
    {
     "data": {
      "text/plain": [
       "{'prep__continues__pca__n_components': 14,\n",
       " 'clf__subsample': 0.5,\n",
       " 'clf__n_estimators': 80,\n",
       " 'clf__min_weight_fraction_leaf': 0,\n",
       " 'clf__min_samples_split': 15,\n",
       " 'clf__max_depth': 5,\n",
       " 'clf__loss': 'exponential'}"
      ]
     },
     "execution_count": 271,
     "metadata": {},
     "output_type": "execute_result"
    }
   ],
   "source": [
    "GB_cv.best_params_"
   ]
  },
  {
   "cell_type": "code",
   "execution_count": 272,
   "id": "western-woman",
   "metadata": {},
   "outputs": [],
   "source": [
    "con_pipe = Pipeline([('imputer', SimpleImputer(strategy='median', add_indicator=True)),\n",
    "                     ('scaler', StandardScaler()),\n",
    "                     ('pca', PCA(n_components=14))])\n",
    "\n",
    "cat_pipe = Pipeline([('imputer', SimpleImputer(strategy='most_frequent', add_indicator=True)),\n",
    "                     ('ode', OrdinalEncoder(handle_unknown='ignore'))])\n",
    "\n",
    "preprocessing_final = ColumnTransformer([('categorical', cat_pipe, categorical_columns),\n",
    "                                   ('continues', con_pipe, numeric_columns)])\n",
    "\n",
    "pipe_GB_final = Pipeline([('prep', preprocessing_final),\n",
    "                    ('clf', GradientBoostingClassifier(subsample=0.8,\n",
    "                                                      n_estimators=80,\n",
    "                                                      min_weight_fraction_leaf=0,\n",
    "                                                      min_samples_split=10,\n",
    "                                                      max_depth=5,\n",
    "                                                      loss='deviance'))])\n",
    "pipe_GB_final.fit(X_train, y_train)\n",
    "y_pred=pipe_GB_final.predict(X_test)"
   ]
  },
  {
   "cell_type": "code",
   "execution_count": 273,
   "id": "breeding-filling",
   "metadata": {},
   "outputs": [
    {
     "data": {
      "text/plain": [
       "(2026, 270)"
      ]
     },
     "execution_count": 273,
     "metadata": {},
     "output_type": "execute_result"
    }
   ],
   "source": [
    "len(y_pred),np.count_nonzero(y_pred)"
   ]
  },
  {
   "cell_type": "code",
   "execution_count": 274,
   "id": "sufficient-maple",
   "metadata": {},
   "outputs": [
    {
     "name": "stdout",
     "output_type": "stream",
     "text": [
      "              precision    recall  f1-score   support\n",
      "\n",
      "           0       0.94      0.97      0.95      1692\n",
      "           1       0.83      0.67      0.74       334\n",
      "\n",
      "    accuracy                           0.92      2026\n",
      "   macro avg       0.88      0.82      0.85      2026\n",
      "weighted avg       0.92      0.92      0.92      2026\n",
      "\n",
      "Hold out set confusion matrix:\n",
      "[[1646   46]\n",
      " [ 110  224]]\n"
     ]
    }
   ],
   "source": [
    "evaluate_model(y_test, y_pred, pipe_GB_final)"
   ]
  },
  {
   "cell_type": "code",
   "execution_count": 275,
   "id": "hybrid-bachelor",
   "metadata": {},
   "outputs": [
    {
     "data": {
      "text/plain": [
       "<AxesSubplot:>"
      ]
     },
     "execution_count": 275,
     "metadata": {},
     "output_type": "execute_result"
    },
    {
     "data": {
      "image/png": "[encoded data removed]",
      "text/plain": [
       "<Figure size 720x504 with 2 Axes>"
      ]
     },
     "metadata": {
      "needs_background": "light"
     },
     "output_type": "display_data"
    }
   ],
   "source": [
    "# Visualizae the confusion matrix (if churn then 1, else 0)\n",
    "import seaborn as sn\n",
    "import pandas as pd\n",
    "import matplotlib.pyplot as plt\n",
    "array = confusion_matrix(y_test, y_pred)\n",
    "df_cm = pd.DataFrame(array, index = [i for i in ['Actual Not Churn','Actual Churn']],\n",
    "                  columns = [i for i in ['Predicted Not Churn','Predicted Churn']])\n",
    "plt.figure(figsize = (10,7))\n",
    "sn.heatmap(df_cm, annot=True,cmap=\"Oranges\") "
   ]
  },
  {
   "cell_type": "code",
   "execution_count": 276,
   "id": "silver-edwards",
   "metadata": {},
   "outputs": [
    {
     "data": {
      "image/png": "[encoded data removed]",
      "text/plain": [
       "<Figure size 432x288 with 1 Axes>"
      ]
     },
     "metadata": {
      "needs_background": "light"
     },
     "output_type": "display_data"
    }
   ],
   "source": [
    "# AUC ROC curve \n",
    "plot_roc_curve(pipe_rf_final,X_test, y_test)\n",
    "plt.show()"
   ]
  },
  {
   "cell_type": "code",
   "execution_count": 277,
   "id": "independent-parking",
   "metadata": {},
   "outputs": [
    {
     "data": {
      "image/png": "[encoded data removed]",
      "text/plain": [
       "<Figure size 432x288 with 1 Axes>"
      ]
     },
     "metadata": {
      "needs_background": "light"
     },
     "output_type": "display_data"
    }
   ],
   "source": [
    "# PR curve, this is more reliable in class imbalance situation\n",
    "disp = plot_precision_recall_curve(pipe_GB_final, X_test, y_test)"
   ]
  },
  {
   "cell_type": "markdown",
   "id": "brutal-partition",
   "metadata": {},
   "source": [
    "###### Just by comparing average PR score and PR curve on the test set, gradient boosting outperforms random forest"
   ]
  },
  {
   "cell_type": "code",
   "execution_count": 283,
   "id": "unlike-young",
   "metadata": {},
   "outputs": [
    {
     "data": {
      "application/vnd.plotly.v1+json": {
       "config": {
        "plotlyServerURL": "https://plot.ly"
       },
       "data": [
        {
         "alignmentgroup": "True",
         "hovertemplate": "value=%{x}<br>feature=%{y}<br>text=%{text}<extra></extra>",
         "legendgroup": "",
         "marker": {
          "color": "#636efa"
         },
         "name": "",
         "offsetgroup": "",
         "orientation": "h",
         "showlegend": false,
         "text": [
          0,
          0.1,
          0.4,
          0.8,
          1,
          2.5,
          6,
          6.6,
          9.3,
          11.9,
          12.9,
          14.4,
          18.9,
          21,
          23,
          36.7,
          49.8,
          99.6,
          100
         ],
         "textposition": "auto",
         "type": "bar",
         "x": [
          0,
          0.11272264232614847,
          0.434091979702434,
          0.7514970202789877,
          0.9927657490798393,
          2.4798432286982455,
          6.03219228425388,
          6.625485631677316,
          9.323802713167133,
          11.856395229400677,
          12.941605576707005,
          14.411467895131178,
          18.868395660152572,
          21.004203881844642,
          23.01583181847197,
          36.7487137283632,
          49.76396061489662,
          99.56569369764489,
          100
         ],
         "xaxis": "x",
         "y": [
          "19.  Total_Trans_Ct",
          "18.   Card_Category",
          "17. Income_Category",
          "16. Education_Level",
          "15.  Marital_Status",
          "14.          Gender",
          "13. Avg_Open_To_Buy",
          "12. Months_Inactive_12_mon",
          "11.    Credit_Limit",
          "10. Total_Revolving_Bal",
          "9.    Customer_Age",
          "8. Avg_Utilization_Ratio",
          "7. Total_Trans_Amt",
          "6.  Months_on_book",
          "5. Total_Relationship_Count",
          "4. Contacts_Count_12_mon",
          "3. Total_Amt_Chng_Q4_Q1",
          "2. Total_Ct_Chng_Q4_Q1",
          "1. Dependent_count"
         ],
         "yaxis": "y"
        }
       ],
       "layout": {
        "barmode": "relative",
        "height": 500,
        "legend": {
         "tracegroupgap": 0
        },
        "margin": {
         "t": 60
        },
        "showlegend": false,
        "template": {
         "data": {
          "bar": [
           {
            "error_x": {
             "color": "#2a3f5f"
            },
            "error_y": {
             "color": "#2a3f5f"
            },
            "marker": {
             "line": {
              "color": "#E5ECF6",
              "width": 0.5
             }
            },
            "type": "bar"
           }
          ],
          "barpolar": [
           {
            "marker": {
             "line": {
              "color": "#E5ECF6",
              "width": 0.5
             }
            },
            "type": "barpolar"
           }
          ],
          "carpet": [
           {
            "aaxis": {
             "endlinecolor": "#2a3f5f",
             "gridcolor": "white",
             "linecolor": "white",
             "minorgridcolor": "white",
             "startlinecolor": "#2a3f5f"
            },
            "baxis": {
             "endlinecolor": "#2a3f5f",
             "gridcolor": "white",
             "linecolor": "white",
             "minorgridcolor": "white",
             "startlinecolor": "#2a3f5f"
            },
            "type": "carpet"
           }
          ],
          "choropleth": [
           {
            "colorbar": {
             "outlinewidth": 0,
             "ticks": ""
            },
            "type": "choropleth"
           }
          ],
          "contour": [
           {
            "colorbar": {
             "outlinewidth": 0,
             "ticks": ""
            },
            "colorscale": [
             [
              0,
              "#0d0887"
             ],
             [
              0.1111111111111111,
              "#46039f"
             ],
             [
              0.2222222222222222,
              "#7201a8"
             ],
             [
              0.3333333333333333,
              "#9c179e"
             ],
             [
              0.4444444444444444,
              "#bd3786"
             ],
             [
              0.5555555555555556,
              "#d8576b"
             ],
             [
              0.6666666666666666,
              "#ed7953"
             ],
             [
              0.7777777777777778,
              "#fb9f3a"
             ],
             [
              0.8888888888888888,
              "#fdca26"
             ],
             [
              1,
              "#f0f921"
             ]
            ],
            "type": "contour"
           }
          ],
          "contourcarpet": [
           {
            "colorbar": {
             "outlinewidth": 0,
             "ticks": ""
            },
            "type": "contourcarpet"
           }
          ],
          "heatmap": [
           {
            "colorbar": {
             "outlinewidth": 0,
             "ticks": ""
            },
            "colorscale": [
             [
              0,
              "#0d0887"
             ],
             [
              0.1111111111111111,
              "#46039f"
             ],
             [
              0.2222222222222222,
              "#7201a8"
             ],
             [
              0.3333333333333333,
              "#9c179e"
             ],
             [
              0.4444444444444444,
              "#bd3786"
             ],
             [
              0.5555555555555556,
              "#d8576b"
             ],
             [
              0.6666666666666666,
              "#ed7953"
             ],
             [
              0.7777777777777778,
              "#fb9f3a"
             ],
             [
              0.8888888888888888,
              "#fdca26"
             ],
             [
              1,
              "#f0f921"
             ]
            ],
            "type": "heatmap"
           }
          ],
          "heatmapgl": [
           {
            "colorbar": {
             "outlinewidth": 0,
             "ticks": ""
            },
            "colorscale": [
             [
              0,
              "#0d0887"
             ],
             [
              0.1111111111111111,
              "#46039f"
             ],
             [
              0.2222222222222222,
              "#7201a8"
             ],
             [
              0.3333333333333333,
              "#9c179e"
             ],
             [
              0.4444444444444444,
              "#bd3786"
             ],
             [
              0.5555555555555556,
              "#d8576b"
             ],
             [
              0.6666666666666666,
              "#ed7953"
             ],
             [
              0.7777777777777778,
              "#fb9f3a"
             ],
             [
              0.8888888888888888,
              "#fdca26"
             ],
             [
              1,
              "#f0f921"
             ]
            ],
            "type": "heatmapgl"
           }
          ],
          "histogram": [
           {
            "marker": {
             "colorbar": {
              "outlinewidth": 0,
              "ticks": ""
             }
            },
            "type": "histogram"
           }
          ],
          "histogram2d": [
           {
            "colorbar": {
             "outlinewidth": 0,
             "ticks": ""
            },
            "colorscale": [
             [
              0,
              "#0d0887"
             ],
             [
              0.1111111111111111,
              "#46039f"
             ],
             [
              0.2222222222222222,
              "#7201a8"
             ],
             [
              0.3333333333333333,
              "#9c179e"
             ],
             [
              0.4444444444444444,
              "#bd3786"
             ],
             [
              0.5555555555555556,
              "#d8576b"
             ],
             [
              0.6666666666666666,
              "#ed7953"
             ],
             [
              0.7777777777777778,
              "#fb9f3a"
             ],
             [
              0.8888888888888888,
              "#fdca26"
             ],
             [
              1,
              "#f0f921"
             ]
            ],
            "type": "histogram2d"
           }
          ],
          "histogram2dcontour": [
           {
            "colorbar": {
             "outlinewidth": 0,
             "ticks": ""
            },
            "colorscale": [
             [
              0,
              "#0d0887"
             ],
             [
              0.1111111111111111,
              "#46039f"
             ],
             [
              0.2222222222222222,
              "#7201a8"
             ],
             [
              0.3333333333333333,
              "#9c179e"
             ],
             [
              0.4444444444444444,
              "#bd3786"
             ],
             [
              0.5555555555555556,
              "#d8576b"
             ],
             [
              0.6666666666666666,
              "#ed7953"
             ],
             [
              0.7777777777777778,
              "#fb9f3a"
             ],
             [
              0.8888888888888888,
              "#fdca26"
             ],
             [
              1,
              "#f0f921"
             ]
            ],
            "type": "histogram2dcontour"
           }
          ],
          "mesh3d": [
           {
            "colorbar": {
             "outlinewidth": 0,
             "ticks": ""
            },
            "type": "mesh3d"
           }
          ],
          "parcoords": [
           {
            "line": {
             "colorbar": {
              "outlinewidth": 0,
              "ticks": ""
             }
            },
            "type": "parcoords"
           }
          ],
          "pie": [
           {
            "automargin": true,
            "type": "pie"
           }
          ],
          "scatter": [
           {
            "marker": {
             "colorbar": {
              "outlinewidth": 0,
              "ticks": ""
             }
            },
            "type": "scatter"
           }
          ],
          "scatter3d": [
           {
            "line": {
             "colorbar": {
              "outlinewidth": 0,
              "ticks": ""
             }
            },
            "marker": {
             "colorbar": {
              "outlinewidth": 0,
              "ticks": ""
             }
            },
            "type": "scatter3d"
           }
          ],
          "scattercarpet": [
           {
            "marker": {
             "colorbar": {
              "outlinewidth": 0,
              "ticks": ""
             }
            },
            "type": "scattercarpet"
           }
          ],
          "scattergeo": [
           {
            "marker": {
             "colorbar": {
              "outlinewidth": 0,
              "ticks": ""
             }
            },
            "type": "scattergeo"
           }
          ],
          "scattergl": [
           {
            "marker": {
             "colorbar": {
              "outlinewidth": 0,
              "ticks": ""
             }
            },
            "type": "scattergl"
           }
          ],
          "scattermapbox": [
           {
            "marker": {
             "colorbar": {
              "outlinewidth": 0,
              "ticks": ""
             }
            },
            "type": "scattermapbox"
           }
          ],
          "scatterpolar": [
           {
            "marker": {
             "colorbar": {
              "outlinewidth": 0,
              "ticks": ""
             }
            },
            "type": "scatterpolar"
           }
          ],
          "scatterpolargl": [
           {
            "marker": {
             "colorbar": {
              "outlinewidth": 0,
              "ticks": ""
             }
            },
            "type": "scatterpolargl"
           }
          ],
          "scatterternary": [
           {
            "marker": {
             "colorbar": {
              "outlinewidth": 0,
              "ticks": ""
             }
            },
            "type": "scatterternary"
           }
          ],
          "surface": [
           {
            "colorbar": {
             "outlinewidth": 0,
             "ticks": ""
            },
            "colorscale": [
             [
              0,
              "#0d0887"
             ],
             [
              0.1111111111111111,
              "#46039f"
             ],
             [
              0.2222222222222222,
              "#7201a8"
             ],
             [
              0.3333333333333333,
              "#9c179e"
             ],
             [
              0.4444444444444444,
              "#bd3786"
             ],
             [
              0.5555555555555556,
              "#d8576b"
             ],
             [
              0.6666666666666666,
              "#ed7953"
             ],
             [
              0.7777777777777778,
              "#fb9f3a"
             ],
             [
              0.8888888888888888,
              "#fdca26"
             ],
             [
              1,
              "#f0f921"
             ]
            ],
            "type": "surface"
           }
          ],
          "table": [
           {
            "cells": {
             "fill": {
              "color": "#EBF0F8"
             },
             "line": {
              "color": "white"
             }
            },
            "header": {
             "fill": {
              "color": "#C8D4E3"
             },
             "line": {
              "color": "white"
             }
            },
            "type": "table"
           }
          ]
         },
         "layout": {
          "annotationdefaults": {
           "arrowcolor": "#2a3f5f",
           "arrowhead": 0,
           "arrowwidth": 1
          },
          "autotypenumbers": "strict",
          "coloraxis": {
           "colorbar": {
            "outlinewidth": 0,
            "ticks": ""
           }
          },
          "colorscale": {
           "diverging": [
            [
             0,
             "#8e0152"
            ],
            [
             0.1,
             "#c51b7d"
            ],
            [
             0.2,
             "#de77ae"
            ],
            [
             0.3,
             "#f1b6da"
            ],
            [
             0.4,
             "#fde0ef"
            ],
            [
             0.5,
             "#f7f7f7"
            ],
            [
             0.6,
             "#e6f5d0"
            ],
            [
             0.7,
             "#b8e186"
            ],
            [
             0.8,
             "#7fbc41"
            ],
            [
             0.9,
             "#4d9221"
            ],
            [
             1,
             "#276419"
            ]
           ],
           "sequential": [
            [
             0,
             "#0d0887"
            ],
            [
             0.1111111111111111,
             "#46039f"
            ],
            [
             0.2222222222222222,
             "#7201a8"
            ],
            [
             0.3333333333333333,
             "#9c179e"
            ],
            [
             0.4444444444444444,
             "#bd3786"
            ],
            [
             0.5555555555555556,
             "#d8576b"
            ],
            [
             0.6666666666666666,
             "#ed7953"
            ],
            [
             0.7777777777777778,
             "#fb9f3a"
            ],
            [
             0.8888888888888888,
             "#fdca26"
            ],
            [
             1,
             "#f0f921"
            ]
           ],
           "sequentialminus": [
            [
             0,
             "#0d0887"
            ],
            [
             0.1111111111111111,
             "#46039f"
            ],
            [
             0.2222222222222222,
             "#7201a8"
            ],
            [
             0.3333333333333333,
             "#9c179e"
            ],
            [
             0.4444444444444444,
             "#bd3786"
            ],
            [
             0.5555555555555556,
             "#d8576b"
            ],
            [
             0.6666666666666666,
             "#ed7953"
            ],
            [
             0.7777777777777778,
             "#fb9f3a"
            ],
            [
             0.8888888888888888,
             "#fdca26"
            ],
            [
             1,
             "#f0f921"
            ]
           ]
          },
          "colorway": [
           "#636efa",
           "#EF553B",
           "#00cc96",
           "#ab63fa",
           "#FFA15A",
           "#19d3f3",
           "#FF6692",
           "#B6E880",
           "#FF97FF",
           "#FECB52"
          ],
          "font": {
           "color": "#2a3f5f"
          },
          "geo": {
           "bgcolor": "white",
           "lakecolor": "white",
           "landcolor": "#E5ECF6",
           "showlakes": true,
           "showland": true,
           "subunitcolor": "white"
          },
          "hoverlabel": {
           "align": "left"
          },
          "hovermode": "closest",
          "mapbox": {
           "style": "light"
          },
          "paper_bgcolor": "white",
          "plot_bgcolor": "#E5ECF6",
          "polar": {
           "angularaxis": {
            "gridcolor": "white",
            "linecolor": "white",
            "ticks": ""
           },
           "bgcolor": "#E5ECF6",
           "radialaxis": {
            "gridcolor": "white",
            "linecolor": "white",
            "ticks": ""
           }
          },
          "scene": {
           "xaxis": {
            "backgroundcolor": "#E5ECF6",
            "gridcolor": "white",
            "gridwidth": 2,
            "linecolor": "white",
            "showbackground": true,
            "ticks": "",
            "zerolinecolor": "white"
           },
           "yaxis": {
            "backgroundcolor": "#E5ECF6",
            "gridcolor": "white",
            "gridwidth": 2,
            "linecolor": "white",
            "showbackground": true,
            "ticks": "",
            "zerolinecolor": "white"
           },
           "zaxis": {
            "backgroundcolor": "#E5ECF6",
            "gridcolor": "white",
            "gridwidth": 2,
            "linecolor": "white",
            "showbackground": true,
            "ticks": "",
            "zerolinecolor": "white"
           }
          },
          "shapedefaults": {
           "line": {
            "color": "#2a3f5f"
           }
          },
          "ternary": {
           "aaxis": {
            "gridcolor": "white",
            "linecolor": "white",
            "ticks": ""
           },
           "baxis": {
            "gridcolor": "white",
            "linecolor": "white",
            "ticks": ""
           },
           "bgcolor": "#E5ECF6",
           "caxis": {
            "gridcolor": "white",
            "linecolor": "white",
            "ticks": ""
           }
          },
          "title": {
           "x": 0.05
          },
          "xaxis": {
           "automargin": true,
           "gridcolor": "white",
           "linecolor": "white",
           "ticks": "",
           "title": {
            "standoff": 15
           },
           "zerolinecolor": "white",
           "zerolinewidth": 2
          },
          "yaxis": {
           "automargin": true,
           "gridcolor": "white",
           "linecolor": "white",
           "ticks": "",
           "title": {
            "standoff": 15
           },
           "zerolinecolor": "white",
           "zerolinewidth": 2
          }
         }
        },
        "title": {
         "text": "All Feature Importances",
         "x": 0.5
        },
        "width": 750,
        "xaxis": {
         "anchor": "y",
         "domain": [
          0,
          1
         ],
         "title": {
          "text": "value"
         }
        },
        "yaxis": {
         "anchor": "x",
         "domain": [
          0,
          1
         ],
         "tickfont": {
          "family": "Courier New",
          "size": 15
         },
         "title": {
          "text": ""
         }
        }
       }
      },
      "text/html": [
       "<div>                            <div id=\"13df680b-cdf1-4a54-bdd0-6ce086fef7be\" class=\"plotly-graph-div\" style=\"height:500px; width:750px;\"></div>            <script type=\"text/javascript\">                require([\"plotly\"], function(Plotly) {                    window.PLOTLYENV=window.PLOTLYENV || {};                                    if (document.getElementById(\"13df680b-cdf1-4a54-bdd0-6ce086fef7be\")) {                    Plotly.newPlot(                        \"13df680b-cdf1-4a54-bdd0-6ce086fef7be\",                        [{\"alignmentgroup\": \"True\", \"hovertemplate\": \"value=%{x}<br>feature=%{y}<br>text=%{text}<extra></extra>\", \"legendgroup\": \"\", \"marker\": {\"color\": \"#636efa\"}, \"name\": \"\", \"offsetgroup\": \"\", \"orientation\": \"h\", \"showlegend\": false, \"text\": [0.0, 0.1, 0.4, 0.8, 1.0, 2.5, 6.0, 6.6, 9.3, 11.9, 12.9, 14.4, 18.9, 21.0, 23.0, 36.7, 49.8, 99.6, 100.0], \"textposition\": \"auto\", \"type\": \"bar\", \"x\": [0.0, 0.11272264232614847, 0.434091979702434, 0.7514970202789877, 0.9927657490798393, 2.4798432286982455, 6.03219228425388, 6.625485631677316, 9.323802713167133, 11.856395229400677, 12.941605576707005, 14.411467895131178, 18.868395660152572, 21.004203881844642, 23.01583181847197, 36.7487137283632, 49.76396061489662, 99.56569369764489, 100.0], \"xaxis\": \"x\", \"y\": [\"19.  Total_Trans_Ct\", \"18.   Card_Category\", \"17. Income_Category\", \"16. Education_Level\", \"15.  Marital_Status\", \"14.          Gender\", \"13. Avg_Open_To_Buy\", \"12. Months_Inactive_12_mon\", \"11.    Credit_Limit\", \"10. Total_Revolving_Bal\", \"9.    Customer_Age\", \"8. Avg_Utilization_Ratio\", \"7. Total_Trans_Amt\", \"6.  Months_on_book\", \"5. Total_Relationship_Count\", \"4. Contacts_Count_12_mon\", \"3. Total_Amt_Chng_Q4_Q1\", \"2. Total_Ct_Chng_Q4_Q1\", \"1. Dependent_count\"], \"yaxis\": \"y\"}],                        {\"barmode\": \"relative\", \"height\": 500, \"legend\": {\"tracegroupgap\": 0}, \"margin\": {\"t\": 60}, \"showlegend\": false, \"template\": {\"data\": {\"bar\": [{\"error_x\": {\"color\": \"#2a3f5f\"}, \"error_y\": {\"color\": \"#2a3f5f\"}, \"marker\": {\"line\": {\"color\": \"#E5ECF6\", \"width\": 0.5}}, \"type\": \"bar\"}], \"barpolar\": [{\"marker\": {\"line\": {\"color\": \"#E5ECF6\", \"width\": 0.5}}, \"type\": \"barpolar\"}], \"carpet\": [{\"aaxis\": {\"endlinecolor\": \"#2a3f5f\", \"gridcolor\": \"white\", \"linecolor\": \"white\", \"minorgridcolor\": \"white\", \"startlinecolor\": \"#2a3f5f\"}, \"baxis\": {\"endlinecolor\": \"#2a3f5f\", \"gridcolor\": \"white\", \"linecolor\": \"white\", \"minorgridcolor\": \"white\", \"startlinecolor\": \"#2a3f5f\"}, \"type\": \"carpet\"}], \"choropleth\": [{\"colorbar\": {\"outlinewidth\": 0, \"ticks\": \"\"}, \"type\": \"choropleth\"}], \"contour\": [{\"colorbar\": {\"outlinewidth\": 0, \"ticks\": \"\"}, \"colorscale\": [[0.0, \"#0d0887\"], [0.1111111111111111, \"#46039f\"], [0.2222222222222222, \"#7201a8\"], [0.3333333333333333, \"#9c179e\"], [0.4444444444444444, \"#bd3786\"], [0.5555555555555556, \"#d8576b\"], [0.6666666666666666, \"#ed7953\"], [0.7777777777777778, \"#fb9f3a\"], [0.8888888888888888, \"#fdca26\"], [1.0, \"#f0f921\"]], \"type\": \"contour\"}], \"contourcarpet\": [{\"colorbar\": {\"outlinewidth\": 0, \"ticks\": \"\"}, \"type\": \"contourcarpet\"}], \"heatmap\": [{\"colorbar\": {\"outlinewidth\": 0, \"ticks\": \"\"}, \"colorscale\": [[0.0, \"#0d0887\"], [0.1111111111111111, \"#46039f\"], [0.2222222222222222, \"#7201a8\"], [0.3333333333333333, \"#9c179e\"], [0.4444444444444444, \"#bd3786\"], [0.5555555555555556, \"#d8576b\"], [0.6666666666666666, \"#ed7953\"], [0.7777777777777778, \"#fb9f3a\"], [0.8888888888888888, \"#fdca26\"], [1.0, \"#f0f921\"]], \"type\": \"heatmap\"}], \"heatmapgl\": [{\"colorbar\": {\"outlinewidth\": 0, \"ticks\": \"\"}, \"colorscale\": [[0.0, \"#0d0887\"], [0.1111111111111111, \"#46039f\"], [0.2222222222222222, \"#7201a8\"], [0.3333333333333333, \"#9c179e\"], [0.4444444444444444, \"#bd3786\"], [0.5555555555555556, \"#d8576b\"], [0.6666666666666666, \"#ed7953\"], [0.7777777777777778, \"#fb9f3a\"], [0.8888888888888888, \"#fdca26\"], [1.0, \"#f0f921\"]], \"type\": \"heatmapgl\"}], \"histogram\": [{\"marker\": {\"colorbar\": {\"outlinewidth\": 0, \"ticks\": \"\"}}, \"type\": \"histogram\"}], \"histogram2d\": [{\"colorbar\": {\"outlinewidth\": 0, \"ticks\": \"\"}, \"colorscale\": [[0.0, \"#0d0887\"], [0.1111111111111111, \"#46039f\"], [0.2222222222222222, \"#7201a8\"], [0.3333333333333333, \"#9c179e\"], [0.4444444444444444, \"#bd3786\"], [0.5555555555555556, \"#d8576b\"], [0.6666666666666666, \"#ed7953\"], [0.7777777777777778, \"#fb9f3a\"], [0.8888888888888888, \"#fdca26\"], [1.0, \"#f0f921\"]], \"type\": \"histogram2d\"}], \"histogram2dcontour\": [{\"colorbar\": {\"outlinewidth\": 0, \"ticks\": \"\"}, \"colorscale\": [[0.0, \"#0d0887\"], [0.1111111111111111, \"#46039f\"], [0.2222222222222222, \"#7201a8\"], [0.3333333333333333, \"#9c179e\"], [0.4444444444444444, \"#bd3786\"], [0.5555555555555556, \"#d8576b\"], [0.6666666666666666, \"#ed7953\"], [0.7777777777777778, \"#fb9f3a\"], [0.8888888888888888, \"#fdca26\"], [1.0, \"#f0f921\"]], \"type\": \"histogram2dcontour\"}], \"mesh3d\": [{\"colorbar\": {\"outlinewidth\": 0, \"ticks\": \"\"}, \"type\": \"mesh3d\"}], \"parcoords\": [{\"line\": {\"colorbar\": {\"outlinewidth\": 0, \"ticks\": \"\"}}, \"type\": \"parcoords\"}], \"pie\": [{\"automargin\": true, \"type\": \"pie\"}], \"scatter\": [{\"marker\": {\"colorbar\": {\"outlinewidth\": 0, \"ticks\": \"\"}}, \"type\": \"scatter\"}], \"scatter3d\": [{\"line\": {\"colorbar\": {\"outlinewidth\": 0, \"ticks\": \"\"}}, \"marker\": {\"colorbar\": {\"outlinewidth\": 0, \"ticks\": \"\"}}, \"type\": \"scatter3d\"}], \"scattercarpet\": [{\"marker\": {\"colorbar\": {\"outlinewidth\": 0, \"ticks\": \"\"}}, \"type\": \"scattercarpet\"}], \"scattergeo\": [{\"marker\": {\"colorbar\": {\"outlinewidth\": 0, \"ticks\": \"\"}}, \"type\": \"scattergeo\"}], \"scattergl\": [{\"marker\": {\"colorbar\": {\"outlinewidth\": 0, \"ticks\": \"\"}}, \"type\": \"scattergl\"}], \"scattermapbox\": [{\"marker\": {\"colorbar\": {\"outlinewidth\": 0, \"ticks\": \"\"}}, \"type\": \"scattermapbox\"}], \"scatterpolar\": [{\"marker\": {\"colorbar\": {\"outlinewidth\": 0, \"ticks\": \"\"}}, \"type\": \"scatterpolar\"}], \"scatterpolargl\": [{\"marker\": {\"colorbar\": {\"outlinewidth\": 0, \"ticks\": \"\"}}, \"type\": \"scatterpolargl\"}], \"scatterternary\": [{\"marker\": {\"colorbar\": {\"outlinewidth\": 0, \"ticks\": \"\"}}, \"type\": \"scatterternary\"}], \"surface\": [{\"colorbar\": {\"outlinewidth\": 0, \"ticks\": \"\"}, \"colorscale\": [[0.0, \"#0d0887\"], [0.1111111111111111, \"#46039f\"], [0.2222222222222222, \"#7201a8\"], [0.3333333333333333, \"#9c179e\"], [0.4444444444444444, \"#bd3786\"], [0.5555555555555556, \"#d8576b\"], [0.6666666666666666, \"#ed7953\"], [0.7777777777777778, \"#fb9f3a\"], [0.8888888888888888, \"#fdca26\"], [1.0, \"#f0f921\"]], \"type\": \"surface\"}], \"table\": [{\"cells\": {\"fill\": {\"color\": \"#EBF0F8\"}, \"line\": {\"color\": \"white\"}}, \"header\": {\"fill\": {\"color\": \"#C8D4E3\"}, \"line\": {\"color\": \"white\"}}, \"type\": \"table\"}]}, \"layout\": {\"annotationdefaults\": {\"arrowcolor\": \"#2a3f5f\", \"arrowhead\": 0, \"arrowwidth\": 1}, \"autotypenumbers\": \"strict\", \"coloraxis\": {\"colorbar\": {\"outlinewidth\": 0, \"ticks\": \"\"}}, \"colorscale\": {\"diverging\": [[0, \"#8e0152\"], [0.1, \"#c51b7d\"], [0.2, \"#de77ae\"], [0.3, \"#f1b6da\"], [0.4, \"#fde0ef\"], [0.5, \"#f7f7f7\"], [0.6, \"#e6f5d0\"], [0.7, \"#b8e186\"], [0.8, \"#7fbc41\"], [0.9, \"#4d9221\"], [1, \"#276419\"]], \"sequential\": [[0.0, \"#0d0887\"], [0.1111111111111111, \"#46039f\"], [0.2222222222222222, \"#7201a8\"], [0.3333333333333333, \"#9c179e\"], [0.4444444444444444, \"#bd3786\"], [0.5555555555555556, \"#d8576b\"], [0.6666666666666666, \"#ed7953\"], [0.7777777777777778, \"#fb9f3a\"], [0.8888888888888888, \"#fdca26\"], [1.0, \"#f0f921\"]], \"sequentialminus\": [[0.0, \"#0d0887\"], [0.1111111111111111, \"#46039f\"], [0.2222222222222222, \"#7201a8\"], [0.3333333333333333, \"#9c179e\"], [0.4444444444444444, \"#bd3786\"], [0.5555555555555556, \"#d8576b\"], [0.6666666666666666, \"#ed7953\"], [0.7777777777777778, \"#fb9f3a\"], [0.8888888888888888, \"#fdca26\"], [1.0, \"#f0f921\"]]}, \"colorway\": [\"#636efa\", \"#EF553B\", \"#00cc96\", \"#ab63fa\", \"#FFA15A\", \"#19d3f3\", \"#FF6692\", \"#B6E880\", \"#FF97FF\", \"#FECB52\"], \"font\": {\"color\": \"#2a3f5f\"}, \"geo\": {\"bgcolor\": \"white\", \"lakecolor\": \"white\", \"landcolor\": \"#E5ECF6\", \"showlakes\": true, \"showland\": true, \"subunitcolor\": \"white\"}, \"hoverlabel\": {\"align\": \"left\"}, \"hovermode\": \"closest\", \"mapbox\": {\"style\": \"light\"}, \"paper_bgcolor\": \"white\", \"plot_bgcolor\": \"#E5ECF6\", \"polar\": {\"angularaxis\": {\"gridcolor\": \"white\", \"linecolor\": \"white\", \"ticks\": \"\"}, \"bgcolor\": \"#E5ECF6\", \"radialaxis\": {\"gridcolor\": \"white\", \"linecolor\": \"white\", \"ticks\": \"\"}}, \"scene\": {\"xaxis\": {\"backgroundcolor\": \"#E5ECF6\", \"gridcolor\": \"white\", \"gridwidth\": 2, \"linecolor\": \"white\", \"showbackground\": true, \"ticks\": \"\", \"zerolinecolor\": \"white\"}, \"yaxis\": {\"backgroundcolor\": \"#E5ECF6\", \"gridcolor\": \"white\", \"gridwidth\": 2, \"linecolor\": \"white\", \"showbackground\": true, \"ticks\": \"\", \"zerolinecolor\": \"white\"}, \"zaxis\": {\"backgroundcolor\": \"#E5ECF6\", \"gridcolor\": \"white\", \"gridwidth\": 2, \"linecolor\": \"white\", \"showbackground\": true, \"ticks\": \"\", \"zerolinecolor\": \"white\"}}, \"shapedefaults\": {\"line\": {\"color\": \"#2a3f5f\"}}, \"ternary\": {\"aaxis\": {\"gridcolor\": \"white\", \"linecolor\": \"white\", \"ticks\": \"\"}, \"baxis\": {\"gridcolor\": \"white\", \"linecolor\": \"white\", \"ticks\": \"\"}, \"bgcolor\": \"#E5ECF6\", \"caxis\": {\"gridcolor\": \"white\", \"linecolor\": \"white\", \"ticks\": \"\"}}, \"title\": {\"x\": 0.05}, \"xaxis\": {\"automargin\": true, \"gridcolor\": \"white\", \"linecolor\": \"white\", \"ticks\": \"\", \"title\": {\"standoff\": 15}, \"zerolinecolor\": \"white\", \"zerolinewidth\": 2}, \"yaxis\": {\"automargin\": true, \"gridcolor\": \"white\", \"linecolor\": \"white\", \"ticks\": \"\", \"title\": {\"standoff\": 15}, \"zerolinecolor\": \"white\", \"zerolinewidth\": 2}}}, \"title\": {\"text\": \"All Feature Importances\", \"x\": 0.5}, \"width\": 750, \"xaxis\": {\"anchor\": \"y\", \"domain\": [0.0, 1.0], \"title\": {\"text\": \"value\"}}, \"yaxis\": {\"anchor\": \"x\", \"domain\": [0.0, 1.0], \"tickfont\": {\"family\": \"Courier New\", \"size\": 15}, \"title\": {\"text\": \"\"}}},                        {\"responsive\": true}                    ).then(function(){\n",
       "                            \n",
       "var gd = document.getElementById('13df680b-cdf1-4a54-bdd0-6ce086fef7be');\n",
       "var x = new MutationObserver(function (mutations, observer) {{\n",
       "        var display = window.getComputedStyle(gd).display;\n",
       "        if (!display || display === 'none') {{\n",
       "            console.log([gd, 'removed!']);\n",
       "            Plotly.purge(gd);\n",
       "            observer.disconnect();\n",
       "        }}\n",
       "}});\n",
       "\n",
       "// Listen for the removal of the full notebook cells\n",
       "var notebookContainer = gd.closest('#notebook-container');\n",
       "if (notebookContainer) {{\n",
       "    x.observe(notebookContainer, {childList: true});\n",
       "}}\n",
       "\n",
       "// Listen for the clearing of the current output cell\n",
       "var outputEl = gd.closest('.output');\n",
       "if (outputEl) {{\n",
       "    x.observe(outputEl, {childList: true});\n",
       "}}\n",
       "\n",
       "                        })                };                });            </script>        </div>"
      ]
     },
     "metadata": {},
     "output_type": "display_data"
    }
   ],
   "source": [
    "feature_importance = FeatureImportance(pipe_GB_final)\n",
    "feature_importance.plot(top_n_features=20)"
   ]
  },
  {
   "cell_type": "markdown",
   "id": "genuine-columbia",
   "metadata": {},
   "source": [
    "#### The most important features and least important features for random forest and gradient boosting classifiers are similar.\n",
    "\n"
   ]
  },
  {
   "cell_type": "code",
   "execution_count": null,
   "id": "convinced-limit",
   "metadata": {},
   "outputs": [],
   "source": []
  },
  {
   "cell_type": "code",
   "execution_count": null,
   "id": "humanitarian-living",
   "metadata": {},
   "outputs": [],
   "source": []
  }
 ],
 "metadata": {
  "kernelspec": {
   "display_name": "Python 3",
   "language": "python",
   "name": "python3"
  },
  "language_info": {
   "codemirror_mode": {
    "name": "ipython",
    "version": 3
   },
   "file_extension": ".py",
   "mimetype": "text/x-python",
   "name": "python",
   "nbconvert_exporter": "python",
   "pygments_lexer": "ipython3",
   "version": "3.8.3"
  }
 },
 "nbformat": 4,
 "nbformat_minor": 5
}
